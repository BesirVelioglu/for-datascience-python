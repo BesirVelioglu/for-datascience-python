{
 "cells": [
  {
   "cell_type": "code",
   "execution_count": 1,
   "id": "b5295572",
   "metadata": {},
   "outputs": [],
   "source": [
    "def bolmeIslemi(numara):\n",
    "    return numara / 2"
   ]
  },
  {
   "cell_type": "code",
   "execution_count": 2,
   "id": "5ec9cbcc",
   "metadata": {},
   "outputs": [
    {
     "data": {
      "text/plain": [
       "15.0"
      ]
     },
     "execution_count": 2,
     "metadata": {},
     "output_type": "execute_result"
    }
   ],
   "source": [
    "bolmeIslemi(30)"
   ]
  },
  {
   "cell_type": "code",
   "execution_count": 3,
   "id": "7b13b9be",
   "metadata": {},
   "outputs": [],
   "source": [
    "benimListem = [1, 2, 3, 4, 5, 6, 7, 8, 9, 10]"
   ]
  },
  {
   "cell_type": "code",
   "execution_count": 4,
   "id": "ac2e57bd",
   "metadata": {},
   "outputs": [],
   "source": [
    "yeniListe = []\n",
    "for eleman in benimListem:\n",
    "    yeniListe.append(bolmeIslemi(eleman))"
   ]
  },
  {
   "cell_type": "code",
   "execution_count": 5,
   "id": "1d7bc552",
   "metadata": {},
   "outputs": [
    {
     "data": {
      "text/plain": [
       "[0.5, 1.0, 1.5, 2.0, 2.5, 3.0, 3.5, 4.0, 4.5, 5.0]"
      ]
     },
     "execution_count": 5,
     "metadata": {},
     "output_type": "execute_result"
    }
   ],
   "source": [
    "yeniListe"
   ]
  },
  {
   "cell_type": "markdown",
   "id": "9f90a8fa",
   "metadata": {},
   "source": [
    "## Map"
   ]
  },
  {
   "cell_type": "code",
   "execution_count": 6,
   "id": "8975af42",
   "metadata": {},
   "outputs": [
    {
     "data": {
      "text/plain": [
       "[0.5, 1.0, 1.5, 2.0, 2.5, 3.0, 3.5, 4.0, 4.5, 5.0]"
      ]
     },
     "execution_count": 6,
     "metadata": {},
     "output_type": "execute_result"
    }
   ],
   "source": [
    "list(map(bolmeIslemi,benimListem))  #map yukardaki işlemi kısa yoldan uygular."
   ]
  },
  {
   "cell_type": "code",
   "execution_count": 7,
   "id": "89c0b101",
   "metadata": {},
   "outputs": [],
   "source": [
    "def kontrolFonksiyonu(string):\n",
    "    return \"a\" in string"
   ]
  },
  {
   "cell_type": "code",
   "execution_count": 8,
   "id": "08119107",
   "metadata": {},
   "outputs": [
    {
     "data": {
      "text/plain": [
       "True"
      ]
     },
     "execution_count": 8,
     "metadata": {},
     "output_type": "execute_result"
    }
   ],
   "source": [
    "kontrolFonksiyonu(\"ahmet\")"
   ]
  },
  {
   "cell_type": "code",
   "execution_count": 9,
   "id": "b9c39ac3",
   "metadata": {},
   "outputs": [
    {
     "data": {
      "text/plain": [
       "False"
      ]
     },
     "execution_count": 9,
     "metadata": {},
     "output_type": "execute_result"
    }
   ],
   "source": [
    "kontrolFonksiyonu(\"beşir\")"
   ]
  },
  {
   "cell_type": "code",
   "execution_count": 10,
   "id": "c9c5b3fc",
   "metadata": {},
   "outputs": [],
   "source": [
    "stringListesi = [\"beşir\", \"velioğlu\", \"ahmet\", \"mehmet\", \"levent\", \"kübra\"]"
   ]
  },
  {
   "cell_type": "code",
   "execution_count": 11,
   "id": "39a8edf9",
   "metadata": {},
   "outputs": [],
   "source": [
    "sonucListesi = list(map(kontrolFonksiyonu,stringListesi))"
   ]
  },
  {
   "cell_type": "code",
   "execution_count": 12,
   "id": "ca8103a0",
   "metadata": {},
   "outputs": [
    {
     "data": {
      "text/plain": [
       "[False, False, True, False, False, True]"
      ]
     },
     "execution_count": 12,
     "metadata": {},
     "output_type": "execute_result"
    }
   ],
   "source": [
    "sonucListesi"
   ]
  },
  {
   "cell_type": "code",
   "execution_count": 14,
   "id": "092dcd78",
   "metadata": {},
   "outputs": [
    {
     "data": {
      "text/plain": [
       "2"
      ]
     },
     "execution_count": 14,
     "metadata": {},
     "output_type": "execute_result"
    }
   ],
   "source": [
    "sonucListesi.count(True)"
   ]
  },
  {
   "cell_type": "markdown",
   "id": "6b4e2cce",
   "metadata": {},
   "source": [
    "## filter"
   ]
  },
  {
   "cell_type": "code",
   "execution_count": 15,
   "id": "f8554736",
   "metadata": {},
   "outputs": [
    {
     "data": {
      "text/plain": [
       "['ahmet', 'kübra']"
      ]
     },
     "execution_count": 15,
     "metadata": {},
     "output_type": "execute_result"
    }
   ],
   "source": [
    "list(filter(kontrolFonksiyonu,stringListesi))"
   ]
  },
  {
   "cell_type": "markdown",
   "id": "cfc01501",
   "metadata": {},
   "source": [
    "## lambda"
   ]
  },
  {
   "cell_type": "code",
   "execution_count": 16,
   "id": "44515b4f",
   "metadata": {},
   "outputs": [],
   "source": [
    "carpma = lambda numara : numara * 3"
   ]
  },
  {
   "cell_type": "code",
   "execution_count": 17,
   "id": "e1819e61",
   "metadata": {},
   "outputs": [
    {
     "data": {
      "text/plain": [
       "30"
      ]
     },
     "execution_count": 17,
     "metadata": {},
     "output_type": "execute_result"
    }
   ],
   "source": [
    "carpma(10)"
   ]
  },
  {
   "cell_type": "code",
   "execution_count": 18,
   "id": "c750229a",
   "metadata": {},
   "outputs": [],
   "source": [
    "ornekListesi = [10,20,30]"
   ]
  },
  {
   "cell_type": "code",
   "execution_count": 19,
   "id": "2688862e",
   "metadata": {},
   "outputs": [
    {
     "data": {
      "text/plain": [
       "[40, 80, 120]"
      ]
     },
     "execution_count": 19,
     "metadata": {},
     "output_type": "execute_result"
    }
   ],
   "source": [
    "list(map(lambda numara : numara * 4, ornekListesi))"
   ]
  },
  {
   "cell_type": "code",
   "execution_count": null,
   "id": "8ef2488e",
   "metadata": {},
   "outputs": [],
   "source": []
  }
 ],
 "metadata": {
  "kernelspec": {
   "display_name": "Python 3 (ipykernel)",
   "language": "python",
   "name": "python3"
  },
  "language_info": {
   "codemirror_mode": {
    "name": "ipython",
    "version": 3
   },
   "file_extension": ".py",
   "mimetype": "text/x-python",
   "name": "python",
   "nbconvert_exporter": "python",
   "pygments_lexer": "ipython3",
   "version": "3.10.9"
  }
 },
 "nbformat": 4,
 "nbformat_minor": 5
}
