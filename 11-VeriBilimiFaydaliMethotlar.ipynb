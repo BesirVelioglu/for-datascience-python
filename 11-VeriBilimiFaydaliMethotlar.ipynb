{
 "cells": [
  {
   "cell_type": "code",
   "execution_count": 1,
   "id": "3de8a0a1",
   "metadata": {},
   "outputs": [],
   "source": [
    "benimListem = [0, 1, 2, 3, 4, 5]"
   ]
  },
  {
   "cell_type": "code",
   "execution_count": 2,
   "id": "ecc8aad8",
   "metadata": {},
   "outputs": [
    {
     "name": "stdout",
     "output_type": "stream",
     "text": [
      "0\n",
      "1\n",
      "2\n",
      "3\n",
      "4\n",
      "5\n"
     ]
    }
   ],
   "source": [
    "for numara in benimListem:\n",
    "    print(numara)"
   ]
  },
  {
   "cell_type": "markdown",
   "id": "884b88b2",
   "metadata": {},
   "source": [
    "## range"
   ]
  },
  {
   "cell_type": "code",
   "execution_count": 3,
   "id": "ac8a960c",
   "metadata": {},
   "outputs": [
    {
     "data": {
      "text/plain": [
       "range(0, 15)"
      ]
     },
     "execution_count": 3,
     "metadata": {},
     "output_type": "execute_result"
    }
   ],
   "source": [
    "range(15)"
   ]
  },
  {
   "cell_type": "code",
   "execution_count": 4,
   "id": "abdb6fb1",
   "metadata": {},
   "outputs": [
    {
     "data": {
      "text/plain": [
       "[0, 1, 2, 3, 4, 5, 6, 7, 8, 9, 10, 11, 12, 13, 14]"
      ]
     },
     "execution_count": 4,
     "metadata": {},
     "output_type": "execute_result"
    }
   ],
   "source": [
    "list(range(15))  # renge 15 haneli liste oluşturur"
   ]
  },
  {
   "cell_type": "code",
   "execution_count": 7,
   "id": "b04520c7",
   "metadata": {},
   "outputs": [
    {
     "name": "stdout",
     "output_type": "stream",
     "text": [
      "0\n",
      "5\n",
      "10\n",
      "15\n",
      "20\n",
      "25\n",
      "30\n",
      "35\n",
      "40\n",
      "45\n",
      "50\n",
      "55\n",
      "60\n",
      "65\n",
      "70\n"
     ]
    }
   ],
   "source": [
    "for number in list(range(15)):\n",
    "    print(number * 5)"
   ]
  },
  {
   "cell_type": "code",
   "execution_count": 9,
   "id": "d8f568ce",
   "metadata": {},
   "outputs": [
    {
     "data": {
      "text/plain": [
       "[5, 9, 13, 17]"
      ]
     },
     "execution_count": 9,
     "metadata": {},
     "output_type": "execute_result"
    }
   ],
   "source": [
    "list(range(5,21,4)) #5 ten başlar 21 e kadar dörder dörder gider"
   ]
  },
  {
   "cell_type": "markdown",
   "id": "7cc383aa",
   "metadata": {},
   "source": [
    "## Enumerate"
   ]
  },
  {
   "cell_type": "code",
   "execution_count": 10,
   "id": "4f10cace",
   "metadata": {},
   "outputs": [],
   "source": [
    "index = 0"
   ]
  },
  {
   "cell_type": "code",
   "execution_count": 11,
   "id": "6210892d",
   "metadata": {},
   "outputs": [
    {
     "name": "stdout",
     "output_type": "stream",
     "text": [
      "güncel numara:  5  güncel index:  0\n",
      "güncel numara:  6  güncel index:  1\n",
      "güncel numara:  7  güncel index:  2\n",
      "güncel numara:  8  güncel index:  3\n",
      "güncel numara:  9  güncel index:  4\n",
      "güncel numara:  10  güncel index:  5\n",
      "güncel numara:  11  güncel index:  6\n",
      "güncel numara:  12  güncel index:  7\n",
      "güncel numara:  13  güncel index:  8\n",
      "güncel numara:  14  güncel index:  9\n"
     ]
    }
   ],
   "source": [
    "for numara in list(range(5,15)):\n",
    "    print(f\"güncel numara:  {numara}  güncel index:  {index}\")\n",
    "    index = index + 1"
   ]
  },
  {
   "cell_type": "code",
   "execution_count": 13,
   "id": "39981d3e",
   "metadata": {},
   "outputs": [
    {
     "name": "stdout",
     "output_type": "stream",
     "text": [
      "(0, 5)\n",
      "(1, 6)\n",
      "(2, 7)\n",
      "(3, 8)\n",
      "(4, 9)\n",
      "(5, 10)\n",
      "(6, 11)\n",
      "(7, 12)\n",
      "(8, 13)\n",
      "(9, 14)\n"
     ]
    }
   ],
   "source": [
    "for eleman in enumerate(list(range(5,15))):  # enumerate kaçıncı numaranın kaçıncı index e geldiğini gösterir\n",
    "    print(eleman)                            # range 5 ten 15 e kadar sıralı liste oluşturur"
   ]
  },
  {
   "cell_type": "code",
   "execution_count": 14,
   "id": "9a663c11",
   "metadata": {},
   "outputs": [
    {
     "name": "stdout",
     "output_type": "stream",
     "text": [
      "0\n",
      "1\n",
      "2\n",
      "3\n",
      "4\n",
      "5\n",
      "6\n",
      "7\n",
      "8\n",
      "9\n"
     ]
    }
   ],
   "source": [
    "for (index, numara) in enumerate(list(range(5,15))):  # tuple olduğundan dolayı bu şekilde listenin indexine ve değerine ayrı ayrı ulaşabiliriz.\n",
    "    print(index)"
   ]
  },
  {
   "cell_type": "markdown",
   "id": "dac7767d",
   "metadata": {},
   "source": [
    "## Random "
   ]
  },
  {
   "cell_type": "code",
   "execution_count": 15,
   "id": "85a492de",
   "metadata": {},
   "outputs": [],
   "source": [
    "from random import randint # random  kütüphanesinden randint i import et al getir anlamında kullanılır."
   ]
  },
  {
   "cell_type": "code",
   "execution_count": 16,
   "id": "a20f4b47",
   "metadata": {},
   "outputs": [
    {
     "data": {
      "text/plain": [
       "92"
      ]
     },
     "execution_count": 16,
     "metadata": {},
     "output_type": "execute_result"
    }
   ],
   "source": [
    "randint(0,100) #0 dan 100 e kadar rastgele sayı döndürür."
   ]
  },
  {
   "cell_type": "code",
   "execution_count": 17,
   "id": "f78793cf",
   "metadata": {},
   "outputs": [
    {
     "data": {
      "text/plain": [
       "28"
      ]
     },
     "execution_count": 17,
     "metadata": {},
     "output_type": "execute_result"
    }
   ],
   "source": [
    "randint(0,100)"
   ]
  },
  {
   "cell_type": "code",
   "execution_count": 18,
   "id": "8c17b835",
   "metadata": {},
   "outputs": [],
   "source": [
    "yeniListe = list(range(0,10))"
   ]
  },
  {
   "cell_type": "code",
   "execution_count": 19,
   "id": "2132c4ed",
   "metadata": {},
   "outputs": [
    {
     "data": {
      "text/plain": [
       "[0, 1, 2, 3, 4, 5, 6, 7, 8, 9]"
      ]
     },
     "execution_count": 19,
     "metadata": {},
     "output_type": "execute_result"
    }
   ],
   "source": [
    "yeniListe"
   ]
  },
  {
   "cell_type": "code",
   "execution_count": 21,
   "id": "0e2ba727",
   "metadata": {},
   "outputs": [
    {
     "data": {
      "text/plain": [
       "6"
      ]
     },
     "execution_count": 21,
     "metadata": {},
     "output_type": "execute_result"
    }
   ],
   "source": [
    "yeniListe[randint(0,10)] #yeni liste içerisinden rastgele sayı verir."
   ]
  },
  {
   "cell_type": "code",
   "execution_count": 23,
   "id": "5ecf9c51",
   "metadata": {},
   "outputs": [],
   "source": [
    "from random import shuffle # shuffle karıştırma anlamına gelir. listeleri karışık şekilde sıralar"
   ]
  },
  {
   "cell_type": "code",
   "execution_count": 24,
   "id": "48f91b06",
   "metadata": {},
   "outputs": [],
   "source": [
    "shuffle(yeniListe)"
   ]
  },
  {
   "cell_type": "code",
   "execution_count": 25,
   "id": "42814095",
   "metadata": {},
   "outputs": [
    {
     "data": {
      "text/plain": [
       "[6, 8, 5, 9, 7, 0, 2, 1, 4, 3]"
      ]
     },
     "execution_count": 25,
     "metadata": {},
     "output_type": "execute_result"
    }
   ],
   "source": [
    "yeniListe"
   ]
  },
  {
   "cell_type": "markdown",
   "id": "0331f89d",
   "metadata": {},
   "source": [
    "## Zip"
   ]
  },
  {
   "cell_type": "code",
   "execution_count": 26,
   "id": "8ddfb11a",
   "metadata": {},
   "outputs": [],
   "source": [
    "yemekListesi = [\"muz\", \"ananas\", \"elma\"]\n",
    "kaloriListesi = [100,200,300]\n",
    "gunListesi = [\"pazartesi\", \"salı\", \"çarşamba\"]"
   ]
  },
  {
   "cell_type": "code",
   "execution_count": 29,
   "id": "bbb9f583",
   "metadata": {},
   "outputs": [],
   "source": [
    "ziplenmisListe = list(zip(yemekListesi,kaloriListesi,gunListesi))"
   ]
  },
  {
   "cell_type": "code",
   "execution_count": 30,
   "id": "f1ad93b1",
   "metadata": {},
   "outputs": [
    {
     "name": "stdout",
     "output_type": "stream",
     "text": [
      "('muz', 100, 'pazartesi')\n",
      "('ananas', 200, 'salı')\n",
      "('elma', 300, 'çarşamba')\n"
     ]
    }
   ],
   "source": [
    "for eleman in ziplenmisListe:\n",
    "    print(eleman)"
   ]
  },
  {
   "cell_type": "code",
   "execution_count": 31,
   "id": "b06ff1e9",
   "metadata": {},
   "outputs": [
    {
     "data": {
      "text/plain": [
       "[('muz', 100, 'pazartesi'), ('ananas', 200, 'salı'), ('elma', 300, 'çarşamba')]"
      ]
     },
     "execution_count": 31,
     "metadata": {},
     "output_type": "execute_result"
    }
   ],
   "source": [
    "ziplenmisListe"
   ]
  },
  {
   "cell_type": "markdown",
   "id": "92cc6702",
   "metadata": {},
   "source": [
    "## listeler ileri seviye"
   ]
  },
  {
   "cell_type": "code",
   "execution_count": 32,
   "id": "d8c3b194",
   "metadata": {},
   "outputs": [],
   "source": [
    "listeOrnegi = []\n",
    "benimString = \"beşir velioğlu\"\n",
    "\n",
    "for harf in benimString:\n",
    "    listeOrnegi.append(harf)"
   ]
  },
  {
   "cell_type": "code",
   "execution_count": 33,
   "id": "7995ef0e",
   "metadata": {},
   "outputs": [
    {
     "data": {
      "text/plain": [
       "['b', 'e', 'ş', 'i', 'r', ' ', 'v', 'e', 'l', 'i', 'o', 'ğ', 'l', 'u']"
      ]
     },
     "execution_count": 33,
     "metadata": {},
     "output_type": "execute_result"
    }
   ],
   "source": [
    "listeOrnegi"
   ]
  },
  {
   "cell_type": "code",
   "execution_count": 34,
   "id": "23af2794",
   "metadata": {},
   "outputs": [],
   "source": [
    "yeniString = \"beşir Velioğlu\""
   ]
  },
  {
   "cell_type": "code",
   "execution_count": 35,
   "id": "a6571286",
   "metadata": {},
   "outputs": [],
   "source": [
    "yeniListeOrnegi = [eleman for eleman in yeniString]"
   ]
  },
  {
   "cell_type": "code",
   "execution_count": 36,
   "id": "084684e8",
   "metadata": {},
   "outputs": [
    {
     "data": {
      "text/plain": [
       "['b', 'e', 'ş', 'i', 'r', ' ', 'V', 'e', 'l', 'i', 'o', 'ğ', 'l', 'u']"
      ]
     },
     "execution_count": 36,
     "metadata": {},
     "output_type": "execute_result"
    }
   ],
   "source": [
    "yeniListeOrnegi"
   ]
  },
  {
   "cell_type": "code",
   "execution_count": 37,
   "id": "a3e577d4",
   "metadata": {},
   "outputs": [],
   "source": [
    "ikinciListeOrnegi = [numara * 5 for numara in list(range(0,10))]"
   ]
  },
  {
   "cell_type": "code",
   "execution_count": 38,
   "id": "189769e0",
   "metadata": {},
   "outputs": [
    {
     "data": {
      "text/plain": [
       "[0, 5, 10, 15, 20, 25, 30, 35, 40, 45]"
      ]
     },
     "execution_count": 38,
     "metadata": {},
     "output_type": "execute_result"
    }
   ],
   "source": [
    "ikinciListeOrnegi"
   ]
  },
  {
   "cell_type": "code",
   "execution_count": null,
   "id": "24045a3c",
   "metadata": {},
   "outputs": [],
   "source": []
  }
 ],
 "metadata": {
  "kernelspec": {
   "display_name": "Python 3 (ipykernel)",
   "language": "python",
   "name": "python3"
  },
  "language_info": {
   "codemirror_mode": {
    "name": "ipython",
    "version": 3
   },
   "file_extension": ".py",
   "mimetype": "text/x-python",
   "name": "python",
   "nbconvert_exporter": "python",
   "pygments_lexer": "ipython3",
   "version": "3.10.9"
  }
 },
 "nbformat": 4,
 "nbformat_minor": 5
}
