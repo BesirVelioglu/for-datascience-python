{
 "cells": [
  {
   "cell_type": "code",
   "execution_count": null,
   "id": "2ec7f8f3",
   "metadata": {},
   "outputs": [
    {
     "name": "stdout",
     "output_type": "stream",
     "text": [
      "ilk sayıyı giriniz: 67\n",
      "ikinci sayıyı giriniz:  beşir\n",
      "Lütfen sayıları düzgün giriniz\n",
      "ilk sayıyı giriniz: 48\n",
      "ikinci sayıyı giriniz:  93\n",
      "işleminizi seçiniz:  +-*/*\n",
      "48 * 93 = 4464\n",
      "Lütfen sayıları düzgün giriniz\n"
     ]
    }
   ],
   "source": [
    "def hesapla(a,b,islem):\n",
    "    \n",
    "    if islem not in \"+-*/\":\n",
    "        return \"Lütfen şu işlemlerden birini seçiniz:  +-*/\"   \n",
    "    if islem == \"+\":\n",
    "        return (str(a)+\" + \"+str(b) + \" = \" + str(a+b))\n",
    "    if islem == \"-\":\n",
    "        return (str(a)+\" - \"+str(b) + \" = \" + str(a-b))\n",
    "    if islem == \"/\":\n",
    "        return (str(a)+\" / \"+str(b) + \" = \" + str(a/b))\n",
    "    if islem == \"*\":\n",
    "        return (str(a)+\" * \"+str(b) + \" = \" + str(a*b))\n",
    "\n",
    "    \n",
    "while True:     # while true sonsuz döngüye sokar doğu olduğu süree çalıştır manasına gelir\n",
    "    try:\n",
    "        a = int(input(\"ilk sayıyı giriniz: \"))\n",
    "        b = int(input(\"ikinci sayıyı giriniz:  \"))\n",
    "        islem = input(\"işleminizi seçiniz:  +-*/\")\n",
    "        print(hesapla(a,b,islem))\n",
    "    except:                # try ve except nu işlemlerin dışında bişi olursa except altındaki ifadeyi verir ve tekrar try ifadesinin altındaki işlemlere döner.\n",
    "        print(\"Lütfen sayıları düzgün giriniz\")\n"
   ]
  },
  {
   "cell_type": "code",
   "execution_count": null,
   "id": "bcf505ca",
   "metadata": {},
   "outputs": [],
   "source": []
  }
 ],
 "metadata": {
  "kernelspec": {
   "display_name": "Python 3 (ipykernel)",
   "language": "python",
   "name": "python3"
  },
  "language_info": {
   "codemirror_mode": {
    "name": "ipython",
    "version": 3
   },
   "file_extension": ".py",
   "mimetype": "text/x-python",
   "name": "python",
   "nbconvert_exporter": "python",
   "pygments_lexer": "ipython3",
   "version": "3.10.9"
  }
 },
 "nbformat": 4,
 "nbformat_minor": 5
}
