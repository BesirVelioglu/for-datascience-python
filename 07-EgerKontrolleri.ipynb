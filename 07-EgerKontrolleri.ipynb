{
 "cells": [
  {
   "cell_type": "code",
   "execution_count": 3,
   "id": "5cd53753",
   "metadata": {},
   "outputs": [
    {
     "name": "stdout",
     "output_type": "stream",
     "text": [
      "if bloğunun dışına çıktığımız için eğeri sağlamasa dahi bu ifadeyi yazdırır\n"
     ]
    }
   ],
   "source": [
    "if 3 < 2: \n",
    "    print(\"beşir Velioğlu\")\n",
    "    print(\"if koşulu sağlandı\")\n",
    "print(\"if bloğunun dışına çıktığımız için eğeri sağlamasa dahi bu ifadeyi yazdırır\")"
   ]
  },
  {
   "cell_type": "code",
   "execution_count": 7,
   "id": "9e54bb8e",
   "metadata": {},
   "outputs": [],
   "source": [
    "x = 5"
   ]
  },
  {
   "cell_type": "code",
   "execution_count": 8,
   "id": "dd7383e4",
   "metadata": {},
   "outputs": [],
   "source": [
    "y = 4"
   ]
  },
  {
   "cell_type": "code",
   "execution_count": 10,
   "id": "4267bc4a",
   "metadata": {},
   "outputs": [
    {
     "name": "stdout",
     "output_type": "stream",
     "text": [
      "x y den daha büyüktür\n"
     ]
    }
   ],
   "source": [
    "if x > y: \n",
    "    print(\"x y den daha büyüktür\")\n",
    "elif x < y:\n",
    "    print(\"x y den daha küçüktür\")\n",
    "elif x == y:\n",
    "    print(\"x y ye eşittir\")\n",
    "else: \n",
    "    print(\"bu koşulların hiçbiri sağlanmadığında burayı yazdırır\")"
   ]
  },
  {
   "cell_type": "code",
   "execution_count": 5,
   "id": "3987968b",
   "metadata": {},
   "outputs": [
    {
     "name": "stdout",
     "output_type": "stream",
     "text": [
      "Bir Süperkahraman giriniz:  batman\n"
     ]
    }
   ],
   "source": [
    "benimKahramanim = input(\"Bir Süperkahraman giriniz:  \")"
   ]
  },
  {
   "cell_type": "code",
   "execution_count": 6,
   "id": "84d341a4",
   "metadata": {},
   "outputs": [
    {
     "name": "stdout",
     "output_type": "stream",
     "text": [
      "keşke süpermeni seçseydiniz\n"
     ]
    }
   ],
   "source": [
    "if benimKahramanim == \"süperman\":\n",
    "    print(\"tebrikler doğru süperkahramanı seçtiniz.\")\n",
    "elif benimKahramanim == \"batman\":\n",
    "    print(\"keşke süpermeni seçseydiniz\")\n",
    "else:\n",
    "    print(\"bu seçtiğiniz süperkahramanı tanımıyoruz\")"
   ]
  },
  {
   "cell_type": "code",
   "execution_count": 8,
   "id": "68a66d69",
   "metadata": {},
   "outputs": [],
   "source": [
    "a = 10\n",
    "b = 20\n",
    "c = 30"
   ]
  },
  {
   "cell_type": "code",
   "execution_count": 9,
   "id": "ae2c9754",
   "metadata": {},
   "outputs": [
    {
     "name": "stdout",
     "output_type": "stream",
     "text": [
      "a b den küçüktür ve b c den küçüktür \n"
     ]
    }
   ],
   "source": [
    "if a > b and b >c :\n",
    "    print(\"a b den büyüktür ve b c den büyüktü\")\n",
    "elif a < b and b < c :\n",
    "    print(\"a b den küçüktür ve b c den küçüktür \")\n",
    "else :\n",
    "    print(\"başka koşul sağlanmaktadır\")"
   ]
  },
  {
   "cell_type": "code",
   "execution_count": 11,
   "id": "61c26c31",
   "metadata": {},
   "outputs": [],
   "source": [
    "j = 5\n",
    "k = 7\n",
    "l = 9"
   ]
  },
  {
   "cell_type": "code",
   "execution_count": 14,
   "id": "048e2444",
   "metadata": {},
   "outputs": [
    {
     "name": "stdout",
     "output_type": "stream",
     "text": [
      "j k den küçüktür\n"
     ]
    }
   ],
   "source": [
    "if j < k or l < k:                # or da tek bir ifadenin doğru olması yazdırılması için yeterlidir.\n",
    "    print(\"j k den küçüktür\")"
   ]
  },
  {
   "cell_type": "code",
   "execution_count": 26,
   "id": "2e2a485a",
   "metadata": {},
   "outputs": [],
   "source": [
    "karakterCanli = False"
   ]
  },
  {
   "cell_type": "code",
   "execution_count": 27,
   "id": "1a818aac",
   "metadata": {},
   "outputs": [
    {
     "name": "stdout",
     "output_type": "stream",
     "text": [
      "karakteriniz ölü\n"
     ]
    }
   ],
   "source": [
    "if karakterCanli == True:\n",
    "    print(\"karaktariniz yaşıyor.\")\n",
    "else:\n",
    "    print(\"karakteriniz ölü\")"
   ]
  },
  {
   "cell_type": "code",
   "execution_count": 28,
   "id": "48b91b44",
   "metadata": {},
   "outputs": [
    {
     "name": "stdout",
     "output_type": "stream",
     "text": [
      "karakteriniz ölü\n"
     ]
    }
   ],
   "source": [
    "if karakterCanli:\n",
    "    print(\"karaktariniz yaşıyor.\")\n",
    "else:\n",
    "    print(\"karakteriniz ölü\")"
   ]
  },
  {
   "cell_type": "code",
   "execution_count": 29,
   "id": "7501d4b5",
   "metadata": {},
   "outputs": [
    {
     "name": "stdout",
     "output_type": "stream",
     "text": [
      "karakteriniz ölüdür\n"
     ]
    }
   ],
   "source": [
    "if not karakterCanli:\n",
    "    print(\"karakteriniz ölüdür\")"
   ]
  },
  {
   "cell_type": "code",
   "execution_count": 30,
   "id": "7ee778fe",
   "metadata": {},
   "outputs": [],
   "source": [
    "benimString = \"Beşir Velioğlu\""
   ]
  },
  {
   "cell_type": "code",
   "execution_count": 31,
   "id": "c5a44a75",
   "metadata": {},
   "outputs": [
    {
     "name": "stdout",
     "output_type": "stream",
     "text": [
      "eşit değilmiş\n"
     ]
    }
   ],
   "source": [
    "if benimString == \"beşir velioğlu\":\n",
    "    print(\"eşitmiş\")\n",
    "else:\n",
    "    print(\"eşit değilmiş\")"
   ]
  },
  {
   "cell_type": "code",
   "execution_count": 32,
   "id": "44f1f64c",
   "metadata": {},
   "outputs": [
    {
     "name": "stdout",
     "output_type": "stream",
     "text": [
      "varmış\n"
     ]
    }
   ],
   "source": [
    "if \"V\" in benimString:  # in ifadesi V nin benimString ifadesinde var olup olmadığını kontrol eder\n",
    "    print(\"varmış\")\n",
    "else:\n",
    "    print(\"yokmuş\")"
   ]
  },
  {
   "cell_type": "code",
   "execution_count": 33,
   "id": "338c567d",
   "metadata": {},
   "outputs": [],
   "source": [
    "benimListem = [10, 30 , 20, 40, 50 , 60,70]"
   ]
  },
  {
   "cell_type": "code",
   "execution_count": 34,
   "id": "47b7b1ad",
   "metadata": {},
   "outputs": [
    {
     "name": "stdout",
     "output_type": "stream",
     "text": [
      "evet var\n"
     ]
    }
   ],
   "source": [
    "if 30 in benimListem:\n",
    "    print(\"evet var\")"
   ]
  },
  {
   "cell_type": "code",
   "execution_count": 35,
   "id": "652484a4",
   "metadata": {},
   "outputs": [],
   "source": [
    "benimSozluk = {\"muz\" : 100, \"elma\":250, \"karpuz\": 500}"
   ]
  },
  {
   "cell_type": "code",
   "execution_count": 37,
   "id": "521b3754",
   "metadata": {},
   "outputs": [
    {
     "name": "stdout",
     "output_type": "stream",
     "text": [
      "varmış\n"
     ]
    }
   ],
   "source": [
    "if \"elma\" in benimSozluk.keys():\n",
    "    print(\"varmış\")"
   ]
  },
  {
   "cell_type": "code",
   "execution_count": 38,
   "id": "304258f0",
   "metadata": {},
   "outputs": [
    {
     "name": "stdout",
     "output_type": "stream",
     "text": [
      "evet\n"
     ]
    }
   ],
   "source": [
    "if 500 in benimSozluk.values():\n",
    "    print(\"evet\")"
   ]
  },
  {
   "cell_type": "code",
   "execution_count": null,
   "id": "aeb28f6f",
   "metadata": {},
   "outputs": [],
   "source": []
  }
 ],
 "metadata": {
  "kernelspec": {
   "display_name": "Python 3 (ipykernel)",
   "language": "python",
   "name": "python3"
  },
  "language_info": {
   "codemirror_mode": {
    "name": "ipython",
    "version": 3
   },
   "file_extension": ".py",
   "mimetype": "text/x-python",
   "name": "python",
   "nbconvert_exporter": "python",
   "pygments_lexer": "ipython3",
   "version": "3.10.9"
  }
 },
 "nbformat": 4,
 "nbformat_minor": 5
}
