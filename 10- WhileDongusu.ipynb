{
 "cells": [
  {
   "cell_type": "code",
   "execution_count": 1,
   "id": "a920b15d",
   "metadata": {},
   "outputs": [
    {
     "name": "stdout",
     "output_type": "stream",
     "text": [
      "0\n",
      "1\n",
      "2\n",
      "3\n",
      "4\n",
      "5\n",
      "6\n",
      "7\n",
      "8\n",
      "9\n"
     ]
    }
   ],
   "source": [
    "x = 0\n",
    "while x < 10:  # while x 10 a eşit olana kadar bir bir arttır anlamına gelir.\n",
    "    print(x)\n",
    "    x = x+1"
   ]
  },
  {
   "cell_type": "code",
   "execution_count": 2,
   "id": "52ee70c3",
   "metadata": {},
   "outputs": [],
   "source": [
    "benimListem = [1,2,3,4,5,6,7,8]"
   ]
  },
  {
   "cell_type": "code",
   "execution_count": 3,
   "id": "6631f0ab",
   "metadata": {},
   "outputs": [
    {
     "data": {
      "text/plain": [
       "8"
      ]
     },
     "execution_count": 3,
     "metadata": {},
     "output_type": "execute_result"
    }
   ],
   "source": [
    "benimListem.pop()"
   ]
  },
  {
   "cell_type": "code",
   "execution_count": 4,
   "id": "9f4df8d2",
   "metadata": {},
   "outputs": [
    {
     "data": {
      "text/plain": [
       "[1, 2, 3, 4, 5, 6, 7]"
      ]
     },
     "execution_count": 4,
     "metadata": {},
     "output_type": "execute_result"
    }
   ],
   "source": [
    "benimListem"
   ]
  },
  {
   "cell_type": "code",
   "execution_count": null,
   "id": "981de179",
   "metadata": {},
   "outputs": [],
   "source": [
    "benimListem"
   ]
  },
  {
   "cell_type": "code",
   "execution_count": 5,
   "id": "3e8209d8",
   "metadata": {},
   "outputs": [],
   "source": [
    "benimListem.append(8)"
   ]
  },
  {
   "cell_type": "code",
   "execution_count": null,
   "id": "969dc420",
   "metadata": {},
   "outputs": [],
   "source": [
    "while 3 in benimListem:\n",
    "    print(\"3 hala listenin içinde\")  #While döngüsü 3 ü çıkarana kadar son elemanı atıcaktır.\n",
    "    benimListem.pop("
   ]
  },
  {
   "cell_type": "code",
   "execution_count": null,
   "id": "2c42a8af",
   "metadata": {},
   "outputs": [],
   "source": [
    "while numara < 5:\n",
    "    if numara == 4:\n",
    "        break\n",
    "    print(numara)\n",
    "    numara = numara + 1"
   ]
  },
  {
   "cell_type": "code",
   "execution_count": 2,
   "id": "1b3c3fc3",
   "metadata": {},
   "outputs": [
    {
     "name": "stdout",
     "output_type": "stream",
     "text": [
      "yeni degikenin güncel degeri:  0\n",
      "yeni degikenin güncel degeri:  1\n",
      "yeni degikenin güncel degeri:  2\n",
      "yeni degikenin güncel degeri:  3\n",
      "yeni degikenin güncel degeri:  4\n",
      "yeni degikenin güncel degeri:  5\n",
      "yeni degikenin güncel degeri:  6\n",
      "yeni degikenin güncel degeri:  7\n",
      "yeni degikenin güncel degeri:  8\n",
      "yeni degikenin güncel degeri:  9\n",
      "yeni degikenin güncel degeri:  10\n",
      "yeni degikenin güncel degeri:  11\n",
      "yeni degikenin güncel degeri:  12\n",
      "yeni degikenin güncel degeri:  13\n",
      "yeni degikenin güncel degeri:  14\n"
     ]
    }
   ],
   "source": [
    "while yeniDegisken < 15:\n",
    "    print(\"yeni degikenin güncel degeri:  \" + str(yeniDegisken))\n",
    "    yeniDegisken = yeniDegisken + 1"
   ]
  },
  {
   "cell_type": "code",
   "execution_count": 6,
   "id": "4b2362d3",
   "metadata": {},
   "outputs": [
    {
     "name": "stdout",
     "output_type": "stream",
     "text": [
      "yeni degiskenin güncel degeri:  0\n",
      "yeni degiskenin güncel degeri:  1\n",
      "yeni degiskenin güncel degeri:  2\n",
      "yeni degiskenin güncel degeri:  3\n",
      "yeni degiskenin güncel degeri:  4\n",
      "yeni degiskenin güncel degeri:  5\n",
      "yeni degiskenin güncel degeri:  6\n",
      "yeni degiskenin güncel degeri:  7\n",
      "yeni degiskenin güncel degeri:  8\n",
      "yeni degiskenin güncel degeri:  9\n",
      "yeni degiskenin güncel degeri:  10\n",
      "yeni degiskenin güncel degeri:  11\n",
      "yeni degiskenin güncel degeri:  12\n",
      "yeni degiskenin güncel degeri:  13\n",
      "yeni degiskenin güncel degeri:  14\n"
     ]
    }
   ],
   "source": [
    "yeniDegisken = 0\n",
    "while yeniDegisken < 15:\n",
    "    print(f\"yeni degiskenin güncel degeri:  {yeniDegisken}\")  # f metodu strin ifade ile int ifadenin beraber yazılmasını sağlar\n",
    "    yeniDegisken = yeniDegisken + 1"
   ]
  },
  {
   "cell_type": "code",
   "execution_count": null,
   "id": "c0627ca7",
   "metadata": {},
   "outputs": [],
   "source": []
  },
  {
   "cell_type": "code",
   "execution_count": null,
   "id": "ad864dd7",
   "metadata": {},
   "outputs": [],
   "source": []
  }
 ],
 "metadata": {
  "kernelspec": {
   "display_name": "Python 3 (ipykernel)",
   "language": "python",
   "name": "python3"
  },
  "language_info": {
   "codemirror_mode": {
    "name": "ipython",
    "version": 3
   },
   "file_extension": ".py",
   "mimetype": "text/x-python",
   "name": "python",
   "nbconvert_exporter": "python",
   "pygments_lexer": "ipython3",
   "version": "3.10.9"
  }
 },
 "nbformat": 4,
 "nbformat_minor": 5
}
