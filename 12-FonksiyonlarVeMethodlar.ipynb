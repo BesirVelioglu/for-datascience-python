{
 "cells": [
  {
   "cell_type": "code",
   "execution_count": 1,
   "id": "961a40b2",
   "metadata": {},
   "outputs": [],
   "source": [
    "benimAdim = \"Beşir Velioğlu\""
   ]
  },
  {
   "cell_type": "code",
   "execution_count": 2,
   "id": "7462595a",
   "metadata": {},
   "outputs": [
    {
     "data": {
      "text/plain": [
       "'BEŞIR VELIOĞLU'"
      ]
     },
     "execution_count": 2,
     "metadata": {},
     "output_type": "execute_result"
    }
   ],
   "source": [
    "benimAdim.upper()"
   ]
  },
  {
   "cell_type": "code",
   "execution_count": 3,
   "id": "77e3dbfd",
   "metadata": {},
   "outputs": [],
   "source": [
    "benimAdimBüyükHarfli = benimAdim.upper()"
   ]
  },
  {
   "cell_type": "code",
   "execution_count": 4,
   "id": "ad764105",
   "metadata": {},
   "outputs": [
    {
     "data": {
      "text/plain": [
       "'BEŞIR VELIOĞLU'"
      ]
     },
     "execution_count": 4,
     "metadata": {},
     "output_type": "execute_result"
    }
   ],
   "source": [
    "benimAdimBüyükHarfli"
   ]
  },
  {
   "cell_type": "code",
   "execution_count": 5,
   "id": "a39cfa31",
   "metadata": {},
   "outputs": [
    {
     "data": {
      "text/plain": [
       "'Beşir Velioğlu'"
      ]
     },
     "execution_count": 5,
     "metadata": {},
     "output_type": "execute_result"
    }
   ],
   "source": [
    "benimAdim"
   ]
  },
  {
   "cell_type": "code",
   "execution_count": null,
   "id": "3a060783",
   "metadata": {},
   "outputs": [],
   "source": [
    "def ilkFonsiyon():            # def komutu ile kendi fonsksiyonlarımızı oluşturabiliriz. \n",
    "    print(\"ilk fonksiyonum\")"
   ]
  },
  {
   "cell_type": "code",
   "execution_count": 7,
   "id": "d7f79e52",
   "metadata": {},
   "outputs": [
    {
     "name": "stdout",
     "output_type": "stream",
     "text": [
      "ilk fonksiyonum\n"
     ]
    }
   ],
   "source": [
    "ilkFonsiyon()"
   ]
  },
  {
   "cell_type": "markdown",
   "id": "06611559",
   "metadata": {},
   "source": [
    "## input & return"
   ]
  },
  {
   "cell_type": "code",
   "execution_count": 8,
   "id": "6eedd46e",
   "metadata": {},
   "outputs": [],
   "source": [
    "def merhabaDunya(yazdirilacakIsim):\n",
    "    print(\"merhaba\")\n",
    "    print(yazdirilacakIsim)"
   ]
  },
  {
   "cell_type": "code",
   "execution_count": 9,
   "id": "fa75ceb8",
   "metadata": {},
   "outputs": [
    {
     "name": "stdout",
     "output_type": "stream",
     "text": [
      "merhaba\n",
      "Beşir\n"
     ]
    }
   ],
   "source": [
    "merhabaDunya(\"Beşir\")"
   ]
  },
  {
   "cell_type": "code",
   "execution_count": 10,
   "id": "1e868ba2",
   "metadata": {},
   "outputs": [
    {
     "name": "stdout",
     "output_type": "stream",
     "text": [
      "merhaba\n",
      "python\n"
     ]
    }
   ],
   "source": [
    "merhabaDunya(\"python\")"
   ]
  },
  {
   "cell_type": "code",
   "execution_count": 11,
   "id": "0a2b776b",
   "metadata": {},
   "outputs": [],
   "source": [
    "def merhaba(isim = \"beşir\"):\n",
    "    print(\"merhaba\")\n",
    "    print(isim)"
   ]
  },
  {
   "cell_type": "code",
   "execution_count": 12,
   "id": "903e11ab",
   "metadata": {},
   "outputs": [
    {
     "name": "stdout",
     "output_type": "stream",
     "text": [
      "merhaba\n",
      "beşir\n"
     ]
    }
   ],
   "source": [
    "merhaba()"
   ]
  },
  {
   "cell_type": "code",
   "execution_count": 13,
   "id": "bd1dbbc1",
   "metadata": {},
   "outputs": [
    {
     "name": "stdout",
     "output_type": "stream",
     "text": [
      "merhaba\n",
      "python\n"
     ]
    }
   ],
   "source": [
    "merhaba(\"python\")"
   ]
  },
  {
   "cell_type": "code",
   "execution_count": 14,
   "id": "9a67b310",
   "metadata": {},
   "outputs": [],
   "source": [
    "def toplama(numara1, numara2):\n",
    "    sonuc = numara1 + numara2\n",
    "    print(sonuc)"
   ]
  },
  {
   "cell_type": "code",
   "execution_count": 15,
   "id": "71fa31b3",
   "metadata": {},
   "outputs": [
    {
     "name": "stdout",
     "output_type": "stream",
     "text": [
      "70\n"
     ]
    }
   ],
   "source": [
    "toplama(20,50)"
   ]
  },
  {
   "cell_type": "code",
   "execution_count": 16,
   "id": "29ac24a5",
   "metadata": {},
   "outputs": [
    {
     "name": "stdout",
     "output_type": "stream",
     "text": [
      "1200\n"
     ]
    }
   ],
   "source": [
    "toplama(500,700)"
   ]
  },
  {
   "cell_type": "code",
   "execution_count": 17,
   "id": "ea47a791",
   "metadata": {},
   "outputs": [],
   "source": [
    "def superToplama(num1, num2, num3):\n",
    "    print(num1+num2+num3)"
   ]
  },
  {
   "cell_type": "code",
   "execution_count": 18,
   "id": "77bf2a5c",
   "metadata": {},
   "outputs": [
    {
     "name": "stdout",
     "output_type": "stream",
     "text": [
      "13406\n"
     ]
    }
   ],
   "source": [
    "superToplama(800,3213,9393)"
   ]
  },
  {
   "cell_type": "code",
   "execution_count": 19,
   "id": "36614c69",
   "metadata": {},
   "outputs": [
    {
     "name": "stdout",
     "output_type": "stream",
     "text": [
      "30\n"
     ]
    }
   ],
   "source": [
    "yenDegisken = toplama(10,20)"
   ]
  },
  {
   "cell_type": "code",
   "execution_count": 20,
   "id": "fc12492c",
   "metadata": {},
   "outputs": [],
   "source": [
    "yenDegisken"
   ]
  },
  {
   "cell_type": "code",
   "execution_count": 21,
   "id": "e2c35722",
   "metadata": {},
   "outputs": [
    {
     "data": {
      "text/plain": [
       "NoneType"
      ]
     },
     "execution_count": 21,
     "metadata": {},
     "output_type": "execute_result"
    }
   ],
   "source": [
    "type(yenDegisken)"
   ]
  },
  {
   "cell_type": "code",
   "execution_count": 22,
   "id": "de2091d4",
   "metadata": {},
   "outputs": [],
   "source": [
    "def dondurmeliToplama(num1, num2):\n",
    "    return num1+num2"
   ]
  },
  {
   "cell_type": "code",
   "execution_count": 23,
   "id": "fe9f0475",
   "metadata": {},
   "outputs": [
    {
     "data": {
      "text/plain": [
       "80"
      ]
     },
     "execution_count": 23,
     "metadata": {},
     "output_type": "execute_result"
    }
   ],
   "source": [
    "dondurmeliToplama(30,50)"
   ]
  },
  {
   "cell_type": "code",
   "execution_count": 24,
   "id": "902f4eb5",
   "metadata": {},
   "outputs": [],
   "source": [
    "yeniSonuc = dondurmeliToplama(40,50)"
   ]
  },
  {
   "cell_type": "code",
   "execution_count": 25,
   "id": "02fc8437",
   "metadata": {},
   "outputs": [
    {
     "data": {
      "text/plain": [
       "90"
      ]
     },
     "execution_count": 25,
     "metadata": {},
     "output_type": "execute_result"
    }
   ],
   "source": [
    "yeniSonuc"
   ]
  },
  {
   "cell_type": "code",
   "execution_count": 26,
   "id": "6192277a",
   "metadata": {},
   "outputs": [
    {
     "data": {
      "text/plain": [
       "int"
      ]
     },
     "execution_count": 26,
     "metadata": {},
     "output_type": "execute_result"
    }
   ],
   "source": [
    "type(yeniSonuc)"
   ]
  },
  {
   "cell_type": "code",
   "execution_count": 27,
   "id": "13dd13bb",
   "metadata": {},
   "outputs": [],
   "source": [
    "def kontrolFonksiyon(s):\n",
    "    if s == \"beşir\":\n",
    "        print(\"verdiğiniz string beşir\")\n",
    "    else:\n",
    "        print(\"verdiğiniz string beşka bir şey\")"
   ]
  },
  {
   "cell_type": "code",
   "execution_count": 28,
   "id": "daa4a0c7",
   "metadata": {},
   "outputs": [
    {
     "name": "stdout",
     "output_type": "stream",
     "text": [
      "verdiğiniz string beşir\n"
     ]
    }
   ],
   "source": [
    "kontrolFonksiyon(\"beşir\")"
   ]
  },
  {
   "cell_type": "code",
   "execution_count": 29,
   "id": "afe3806f",
   "metadata": {},
   "outputs": [
    {
     "name": "stdout",
     "output_type": "stream",
     "text": [
      "verdiğiniz string beşka bir şey\n"
     ]
    }
   ],
   "source": [
    "kontrolFonksiyon(\"python\")"
   ]
  },
  {
   "cell_type": "markdown",
   "id": "54bc8251",
   "metadata": {},
   "source": [
    "## args & kwargs"
   ]
  },
  {
   "cell_type": "code",
   "execution_count": 30,
   "id": "647d5316",
   "metadata": {},
   "outputs": [],
   "source": [
    "def yeniToplama(*args):   # *args istediğin kadar argümanı topmana yardımcı olur\n",
    "    return sum(args)      # return kullandığım için bunu başka değişkene de eşitleyebilirim"
   ]
  },
  {
   "cell_type": "code",
   "execution_count": 31,
   "id": "ab8458ec",
   "metadata": {},
   "outputs": [
    {
     "data": {
      "text/plain": [
       "1091"
      ]
     },
     "execution_count": 31,
     "metadata": {},
     "output_type": "execute_result"
    }
   ],
   "source": [
    "yeniToplama(50,23,432,43,54,23,423,43)"
   ]
  },
  {
   "cell_type": "code",
   "execution_count": 32,
   "id": "7212394f",
   "metadata": {},
   "outputs": [],
   "source": [
    "def benimFonksiyonum(*args):\n",
    "    return args"
   ]
  },
  {
   "cell_type": "code",
   "execution_count": 33,
   "id": "3f4a647e",
   "metadata": {},
   "outputs": [
    {
     "data": {
      "text/plain": [
       "(30, 24, 50)"
      ]
     },
     "execution_count": 33,
     "metadata": {},
     "output_type": "execute_result"
    }
   ],
   "source": [
    "benimFonksiyonum(30, 24, 50)"
   ]
  },
  {
   "cell_type": "code",
   "execution_count": 34,
   "id": "9dd71f1d",
   "metadata": {},
   "outputs": [],
   "source": [
    "def ornekFonsiyon(**kwargs): # fazla dictionary ifade kullanmak için **kwargs kullanılır\n",
    "    return(kwargs)"
   ]
  },
  {
   "cell_type": "code",
   "execution_count": 35,
   "id": "0b5eae0d",
   "metadata": {},
   "outputs": [
    {
     "data": {
      "text/plain": [
       "{'muz': 100, 'elma': 200, 'ananas': 500}"
      ]
     },
     "execution_count": 35,
     "metadata": {},
     "output_type": "execute_result"
    }
   ],
   "source": [
    "ornekFonsiyon(muz = 100, elma = 200, ananas=500) #bu ifadeden 500 tane de kullanabilirdik."
   ]
  },
  {
   "cell_type": "code",
   "execution_count": 36,
   "id": "6c0b0c60",
   "metadata": {},
   "outputs": [
    {
     "data": {
      "text/plain": [
       "function"
      ]
     },
     "execution_count": 36,
     "metadata": {},
     "output_type": "execute_result"
    }
   ],
   "source": [
    "type(ornekFonsiyon)"
   ]
  },
  {
   "cell_type": "code",
   "execution_count": 37,
   "id": "ca4c5f80",
   "metadata": {},
   "outputs": [
    {
     "data": {
      "text/plain": [
       "dict"
      ]
     },
     "execution_count": 37,
     "metadata": {},
     "output_type": "execute_result"
    }
   ],
   "source": [
    "type(ornekFonsiyon(muz = 100, elma = 200, ananas=500))"
   ]
  },
  {
   "cell_type": "code",
   "execution_count": 38,
   "id": "949b75fc",
   "metadata": {},
   "outputs": [],
   "source": [
    "def keyWordKontrolu(**kwargs):\n",
    "    if \"beşir\" in kwargs:\n",
    "        print(\"beşir var\")\n",
    "    else:\n",
    "        print(\"beşir yok\")"
   ]
  },
  {
   "cell_type": "code",
   "execution_count": 39,
   "id": "8f86d0cd",
   "metadata": {},
   "outputs": [
    {
     "name": "stdout",
     "output_type": "stream",
     "text": [
      "beşir var\n"
     ]
    }
   ],
   "source": [
    "keyWordKontrolu(ahmet = 200, zeynep=32, beşir = 47)"
   ]
  },
  {
   "cell_type": "code",
   "execution_count": null,
   "id": "0b594293",
   "metadata": {},
   "outputs": [],
   "source": []
  }
 ],
 "metadata": {
  "kernelspec": {
   "display_name": "Python 3 (ipykernel)",
   "language": "python",
   "name": "python3"
  },
  "language_info": {
   "codemirror_mode": {
    "name": "ipython",
    "version": 3
   },
   "file_extension": ".py",
   "mimetype": "text/x-python",
   "name": "python",
   "nbconvert_exporter": "python",
   "pygments_lexer": "ipython3",
   "version": "3.10.9"
  }
 },
 "nbformat": 4,
 "nbformat_minor": 5
}
