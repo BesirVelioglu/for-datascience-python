{
 "cells": [
  {
   "cell_type": "code",
   "execution_count": 1,
   "id": "f92126f4",
   "metadata": {},
   "outputs": [],
   "source": [
    "benimListem = [10, 20, 30, 40, 50 ,60]"
   ]
  },
  {
   "cell_type": "code",
   "execution_count": 2,
   "id": "7b81b8dc",
   "metadata": {},
   "outputs": [
    {
     "data": {
      "text/plain": [
       "16.666666666666668"
      ]
     },
     "execution_count": 2,
     "metadata": {},
     "output_type": "execute_result"
    }
   ],
   "source": [
    "benimListem[0] * 5 / 3"
   ]
  },
  {
   "cell_type": "code",
   "execution_count": 3,
   "id": "aa988000",
   "metadata": {},
   "outputs": [
    {
     "data": {
      "text/plain": [
       "66.66666666666667"
      ]
     },
     "execution_count": 3,
     "metadata": {},
     "output_type": "execute_result"
    }
   ],
   "source": [
    "benimListem[3] * 5 / 3"
   ]
  },
  {
   "cell_type": "code",
   "execution_count": 5,
   "id": "9797eb84",
   "metadata": {},
   "outputs": [
    {
     "name": "stdout",
     "output_type": "stream",
     "text": [
      "döngü başlamaıştır\n",
      "10\n",
      "20\n",
      "30\n",
      "40\n",
      "50\n",
      "60\n",
      "döngü sona ermiştir\n"
     ]
    }
   ],
   "source": [
    "print(\"döngü başlamaıştır\")\n",
    "for numara in benimListem:\n",
    "    print(numara)\n",
    "print(\"döngü sona ermiştir\")"
   ]
  },
  {
   "cell_type": "code",
   "execution_count": 6,
   "id": "09ba4182",
   "metadata": {},
   "outputs": [
    {
     "name": "stdout",
     "output_type": "stream",
     "text": [
      "16.666666666666668\n",
      "33.333333333333336\n",
      "50.0\n",
      "66.66666666666667\n",
      "83.33333333333333\n",
      "100.0\n"
     ]
    }
   ],
   "source": [
    "for num in benimListem:\n",
    "    benimRakam = num * 5 /3\n",
    "    print(benimRakam)"
   ]
  },
  {
   "cell_type": "code",
   "execution_count": 7,
   "id": "c37c8c8c",
   "metadata": {},
   "outputs": [],
   "source": [
    "yeniListe = [1,2,3,4,5,6,7,8,9]"
   ]
  },
  {
   "cell_type": "code",
   "execution_count": 17,
   "id": "a7a03c5b",
   "metadata": {},
   "outputs": [
    {
     "name": "stdout",
     "output_type": "stream",
     "text": [
      "2\n",
      "4\n",
      "6\n",
      "8\n"
     ]
    }
   ],
   "source": [
    "for num in yeniListe:\n",
    "    if num % 2 == 0:\n",
    "        print(num)\n",
    "    "
   ]
  },
  {
   "cell_type": "code",
   "execution_count": 19,
   "id": "7ceacde1",
   "metadata": {},
   "outputs": [],
   "source": [
    "yeniString = \"Beşir Velioğlu\""
   ]
  },
  {
   "cell_type": "code",
   "execution_count": 20,
   "id": "f31a1f32",
   "metadata": {},
   "outputs": [
    {
     "name": "stdout",
     "output_type": "stream",
     "text": [
      "B\n",
      "e\n",
      "ş\n",
      "i\n",
      "r\n",
      " \n",
      "V\n",
      "e\n",
      "l\n",
      "i\n",
      "o\n",
      "ğ\n",
      "l\n",
      "u\n"
     ]
    }
   ],
   "source": [
    "for harf in yeniString:\n",
    "    print(harf)"
   ]
  },
  {
   "cell_type": "code",
   "execution_count": 21,
   "id": "db5e9821",
   "metadata": {},
   "outputs": [],
   "source": [
    "yeniToople = (1,2,3,4,5,6,7,8,9)"
   ]
  },
  {
   "cell_type": "code",
   "execution_count": 23,
   "id": "497d6e06",
   "metadata": {},
   "outputs": [
    {
     "name": "stdout",
     "output_type": "stream",
     "text": [
      "-4\n",
      "-3\n",
      "-2\n",
      "-1\n",
      "0\n",
      "1\n",
      "2\n",
      "3\n",
      "4\n"
     ]
    }
   ],
   "source": [
    "for eleman in yeniToople:\n",
    "    print(eleman - 5)"
   ]
  },
  {
   "cell_type": "code",
   "execution_count": 24,
   "id": "a194bbef",
   "metadata": {},
   "outputs": [],
   "source": [
    "koordinatListesi = [(5.2,4.5), (6.8,7.9), (5.7,9.0)]"
   ]
  },
  {
   "cell_type": "code",
   "execution_count": 25,
   "id": "5bc0d7fe",
   "metadata": {},
   "outputs": [
    {
     "data": {
      "text/plain": [
       "list"
      ]
     },
     "execution_count": 25,
     "metadata": {},
     "output_type": "execute_result"
    }
   ],
   "source": [
    "type(koordinatListesi)"
   ]
  },
  {
   "cell_type": "code",
   "execution_count": 26,
   "id": "856b170b",
   "metadata": {},
   "outputs": [
    {
     "data": {
      "text/plain": [
       "tuple"
      ]
     },
     "execution_count": 26,
     "metadata": {},
     "output_type": "execute_result"
    }
   ],
   "source": [
    "type(koordinatListesi[0])"
   ]
  },
  {
   "cell_type": "code",
   "execution_count": 27,
   "id": "ed98532e",
   "metadata": {},
   "outputs": [
    {
     "name": "stdout",
     "output_type": "stream",
     "text": [
      "(5.2, 4.5)\n",
      "(6.8, 7.9)\n",
      "(5.7, 9.0)\n"
     ]
    }
   ],
   "source": [
    "for eleman in koordinatListesi:\n",
    "    print(eleman)"
   ]
  },
  {
   "cell_type": "code",
   "execution_count": 28,
   "id": "1254d770",
   "metadata": {},
   "outputs": [
    {
     "name": "stdout",
     "output_type": "stream",
     "text": [
      "5.2\n",
      "6.8\n",
      "5.7\n"
     ]
    }
   ],
   "source": [
    "for (x,y) in koordinatListesi:\n",
    "    print(x)"
   ]
  },
  {
   "cell_type": "code",
   "execution_count": 29,
   "id": "11ecc330",
   "metadata": {},
   "outputs": [],
   "source": [
    "benimGaripListem = [(1,2,3),(4,5,6),(7,8,9)]"
   ]
  },
  {
   "cell_type": "code",
   "execution_count": 30,
   "id": "47d175d8",
   "metadata": {},
   "outputs": [
    {
     "name": "stdout",
     "output_type": "stream",
     "text": [
      "2\n",
      "5\n",
      "8\n"
     ]
    }
   ],
   "source": [
    "for (x, y, z) in benimGaripListem:\n",
    "    print(y)"
   ]
  },
  {
   "cell_type": "code",
   "execution_count": 35,
   "id": "ee45263f",
   "metadata": {},
   "outputs": [],
   "source": [
    "benimSozluk = {\"muz\":250, \"elma\":400, \"karpuz\":550}"
   ]
  },
  {
   "cell_type": "code",
   "execution_count": 36,
   "id": "a94e0aa3",
   "metadata": {},
   "outputs": [
    {
     "name": "stdout",
     "output_type": "stream",
     "text": [
      "250\n",
      "400\n",
      "550\n"
     ]
    }
   ],
   "source": [
    "for (key,deger) in benimSozluk.items():\n",
    "    print(deger)"
   ]
  },
  {
   "cell_type": "code",
   "execution_count": null,
   "id": "7b66be6e",
   "metadata": {},
   "outputs": [],
   "source": []
  }
 ],
 "metadata": {
  "kernelspec": {
   "display_name": "Python 3 (ipykernel)",
   "language": "python",
   "name": "python3"
  },
  "language_info": {
   "codemirror_mode": {
    "name": "ipython",
    "version": 3
   },
   "file_extension": ".py",
   "mimetype": "text/x-python",
   "name": "python",
   "nbconvert_exporter": "python",
   "pygments_lexer": "ipython3",
   "version": "3.10.9"
  }
 },
 "nbformat": 4,
 "nbformat_minor": 5
}
