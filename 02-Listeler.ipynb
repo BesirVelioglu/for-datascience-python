{
 "cells": [
  {
   "cell_type": "code",
   "execution_count": 1,
   "id": "8cd55697",
   "metadata": {},
   "outputs": [],
   "source": [
    "benimString = \"Beşir Velioğlu\""
   ]
  },
  {
   "cell_type": "code",
   "execution_count": 2,
   "id": "9d8bc65c",
   "metadata": {},
   "outputs": [
    {
     "data": {
      "text/plain": [
       "'B'"
      ]
     },
     "execution_count": 2,
     "metadata": {},
     "output_type": "execute_result"
    }
   ],
   "source": [
    "benimString[0]"
   ]
  },
  {
   "cell_type": "code",
   "execution_count": 3,
   "id": "e03767a0",
   "metadata": {},
   "outputs": [],
   "source": [
    "# immutability & mutable"
   ]
  },
  {
   "cell_type": "code",
   "execution_count": 5,
   "id": "a79da942",
   "metadata": {},
   "outputs": [],
   "source": [
    "#benimString[0] = \"b\" şeklinde değişmez"
   ]
  },
  {
   "cell_type": "code",
   "execution_count": 6,
   "id": "4375fc8a",
   "metadata": {},
   "outputs": [],
   "source": [
    "benimListem = [10,20,30,40]"
   ]
  },
  {
   "cell_type": "code",
   "execution_count": 7,
   "id": "af04dd52",
   "metadata": {},
   "outputs": [
    {
     "data": {
      "text/plain": [
       "list"
      ]
     },
     "execution_count": 7,
     "metadata": {},
     "output_type": "execute_result"
    }
   ],
   "source": [
    "type(benimListem)"
   ]
  },
  {
   "cell_type": "code",
   "execution_count": 8,
   "id": "de5c2e56",
   "metadata": {},
   "outputs": [],
   "source": [
    "benimNumaram = 10"
   ]
  },
  {
   "cell_type": "code",
   "execution_count": 9,
   "id": "41129bc9",
   "metadata": {},
   "outputs": [],
   "source": [
    "benimDigerNumaram = 20"
   ]
  },
  {
   "cell_type": "code",
   "execution_count": 10,
   "id": "ff27b350",
   "metadata": {},
   "outputs": [],
   "source": [
    "benimNumaraListem = [benimNumaram,benimDigerNumaram]"
   ]
  },
  {
   "cell_type": "code",
   "execution_count": 11,
   "id": "3af7182f",
   "metadata": {},
   "outputs": [
    {
     "data": {
      "text/plain": [
       "10"
      ]
     },
     "execution_count": 11,
     "metadata": {},
     "output_type": "execute_result"
    }
   ],
   "source": [
    "benimListem[0]"
   ]
  },
  {
   "cell_type": "code",
   "execution_count": 12,
   "id": "02cd9a8c",
   "metadata": {},
   "outputs": [
    {
     "data": {
      "text/plain": [
       "10"
      ]
     },
     "execution_count": 12,
     "metadata": {},
     "output_type": "execute_result"
    }
   ],
   "source": [
    "benimNumaraListem[0]"
   ]
  },
  {
   "cell_type": "code",
   "execution_count": 13,
   "id": "36d884bc",
   "metadata": {},
   "outputs": [
    {
     "data": {
      "text/plain": [
       "[10, 20, 30, 40]"
      ]
     },
     "execution_count": 13,
     "metadata": {},
     "output_type": "execute_result"
    }
   ],
   "source": [
    "benimListem"
   ]
  },
  {
   "cell_type": "code",
   "execution_count": 14,
   "id": "a0bd3faa",
   "metadata": {},
   "outputs": [],
   "source": [
    "benimListem[0] = 100 # 0. index i 100 sayısıyla değiştirir listelerde."
   ]
  },
  {
   "cell_type": "code",
   "execution_count": 15,
   "id": "a9517dd7",
   "metadata": {},
   "outputs": [
    {
     "data": {
      "text/plain": [
       "[100, 20, 30, 40]"
      ]
     },
     "execution_count": 15,
     "metadata": {},
     "output_type": "execute_result"
    }
   ],
   "source": [
    "benimListem"
   ]
  },
  {
   "cell_type": "code",
   "execution_count": 16,
   "id": "767358e1",
   "metadata": {},
   "outputs": [],
   "source": [
    "benimListem.append(50) #listeye 50 sayısını ekler."
   ]
  },
  {
   "cell_type": "code",
   "execution_count": 17,
   "id": "34e2f61a",
   "metadata": {},
   "outputs": [
    {
     "data": {
      "text/plain": [
       "[100, 20, 30, 40, 50]"
      ]
     },
     "execution_count": 17,
     "metadata": {},
     "output_type": "execute_result"
    }
   ],
   "source": [
    "benimListem"
   ]
  },
  {
   "cell_type": "code",
   "execution_count": 18,
   "id": "d1e6e6d8",
   "metadata": {},
   "outputs": [
    {
     "data": {
      "text/plain": [
       "50"
      ]
     },
     "execution_count": 18,
     "metadata": {},
     "output_type": "execute_result"
    }
   ],
   "source": [
    "benimListem.pop() # pop son elemanı listeden atmaya yarar."
   ]
  },
  {
   "cell_type": "code",
   "execution_count": 19,
   "id": "b0344b66",
   "metadata": {},
   "outputs": [
    {
     "data": {
      "text/plain": [
       "[100, 20, 30, 40]"
      ]
     },
     "execution_count": 19,
     "metadata": {},
     "output_type": "execute_result"
    }
   ],
   "source": [
    "benimListem"
   ]
  },
  {
   "cell_type": "code",
   "execution_count": 21,
   "id": "09e33291",
   "metadata": {},
   "outputs": [],
   "source": [
    "benimListem.remove(40) #remove atadığın sayının listeden kaldırılmasını sağlar."
   ]
  },
  {
   "cell_type": "code",
   "execution_count": 23,
   "id": "1a27b2f7",
   "metadata": {},
   "outputs": [
    {
     "data": {
      "text/plain": [
       "[100, 20, 30]"
      ]
     },
     "execution_count": 23,
     "metadata": {},
     "output_type": "execute_result"
    }
   ],
   "source": [
    "benimListem"
   ]
  },
  {
   "cell_type": "code",
   "execution_count": null,
   "id": "735dfbf6",
   "metadata": {},
   "outputs": [],
   "source": []
  },
  {
   "cell_type": "code",
   "execution_count": 5,
   "id": "febb0b87",
   "metadata": {},
   "outputs": [],
   "source": [
    "benimListem = [10,20,30,40]"
   ]
  },
  {
   "cell_type": "code",
   "execution_count": 6,
   "id": "64648929",
   "metadata": {},
   "outputs": [
    {
     "data": {
      "text/plain": [
       "1"
      ]
     },
     "execution_count": 6,
     "metadata": {},
     "output_type": "execute_result"
    }
   ],
   "source": [
    "benimListem.count(20)"
   ]
  },
  {
   "cell_type": "code",
   "execution_count": 7,
   "id": "1ab622ce",
   "metadata": {},
   "outputs": [],
   "source": [
    "benimListem.append(20)"
   ]
  },
  {
   "cell_type": "code",
   "execution_count": 8,
   "id": "12aa7202",
   "metadata": {},
   "outputs": [
    {
     "data": {
      "text/plain": [
       "[10, 20, 30, 40, 20]"
      ]
     },
     "execution_count": 8,
     "metadata": {},
     "output_type": "execute_result"
    }
   ],
   "source": [
    "benimListem"
   ]
  },
  {
   "cell_type": "code",
   "execution_count": 10,
   "id": "3b5782a4",
   "metadata": {},
   "outputs": [
    {
     "data": {
      "text/plain": [
       "2"
      ]
     },
     "execution_count": 10,
     "metadata": {},
     "output_type": "execute_result"
    }
   ],
   "source": [
    "benimListem.count(20) #count listenin içinde sorguladığın elemandan kaç tane var onu bulur"
   ]
  },
  {
   "cell_type": "code",
   "execution_count": 11,
   "id": "8f7ec35a",
   "metadata": {},
   "outputs": [],
   "source": [
    "benimStringListem = [\"ahmet\", \"mahmut\", \"ayşe\"]"
   ]
  },
  {
   "cell_type": "code",
   "execution_count": 12,
   "id": "89bf2d4b",
   "metadata": {},
   "outputs": [],
   "source": [
    "benimDigerStringListem = [\"besir\", \"beyza\", \"kerem\"]"
   ]
  },
  {
   "cell_type": "code",
   "execution_count": 13,
   "id": "68a5576a",
   "metadata": {},
   "outputs": [],
   "source": [
    "benimToplamaListem = benimStringListem + benimDigerStringListem"
   ]
  },
  {
   "cell_type": "code",
   "execution_count": 14,
   "id": "438d9de8",
   "metadata": {},
   "outputs": [
    {
     "data": {
      "text/plain": [
       "['ahmet', 'mahmut', 'ayşe', 'besir', 'beyza', 'kerem']"
      ]
     },
     "execution_count": 14,
     "metadata": {},
     "output_type": "execute_result"
    }
   ],
   "source": [
    "benimToplamaListem"
   ]
  },
  {
   "cell_type": "code",
   "execution_count": 15,
   "id": "7b60cb9b",
   "metadata": {},
   "outputs": [
    {
     "data": {
      "text/plain": [
       "['ahmet',\n",
       " 'mahmut',\n",
       " 'ayşe',\n",
       " 'ahmet',\n",
       " 'mahmut',\n",
       " 'ayşe',\n",
       " 'ahmet',\n",
       " 'mahmut',\n",
       " 'ayşe',\n",
       " 'ahmet',\n",
       " 'mahmut',\n",
       " 'ayşe']"
      ]
     },
     "execution_count": 15,
     "metadata": {},
     "output_type": "execute_result"
    }
   ],
   "source": [
    "benimStringListem * 4"
   ]
  },
  {
   "cell_type": "code",
   "execution_count": 16,
   "id": "865694ac",
   "metadata": {},
   "outputs": [
    {
     "data": {
      "text/plain": [
       "['ahmet', 'mahmut', 'ayşe', 'besir', 'beyza', 'kerem']"
      ]
     },
     "execution_count": 16,
     "metadata": {},
     "output_type": "execute_result"
    }
   ],
   "source": [
    "benimToplamaListem"
   ]
  },
  {
   "cell_type": "code",
   "execution_count": 17,
   "id": "5d26660a",
   "metadata": {},
   "outputs": [],
   "source": [
    "benimToplamaListem.reverse() # reverse listeyi baştan sona kadar yer değiştirir tersini aldırır."
   ]
  },
  {
   "cell_type": "code",
   "execution_count": 18,
   "id": "d99555fc",
   "metadata": {},
   "outputs": [
    {
     "data": {
      "text/plain": [
       "['kerem', 'beyza', 'besir', 'ayşe', 'mahmut', 'ahmet']"
      ]
     },
     "execution_count": 18,
     "metadata": {},
     "output_type": "execute_result"
    }
   ],
   "source": [
    "benimToplamaListem"
   ]
  },
  {
   "cell_type": "code",
   "execution_count": 21,
   "id": "e5f75dc6",
   "metadata": {},
   "outputs": [
    {
     "data": {
      "text/plain": [
       "4.5"
      ]
     },
     "execution_count": 21,
     "metadata": {},
     "output_type": "execute_result"
    }
   ],
   "source": [
    "karisikListe =[1, 3, 4.5, \"besir\",7]\n",
    "karisikListe[2]"
   ]
  },
  {
   "cell_type": "code",
   "execution_count": 22,
   "id": "1335d2c1",
   "metadata": {},
   "outputs": [
    {
     "data": {
      "text/plain": [
       "list"
      ]
     },
     "execution_count": 22,
     "metadata": {},
     "output_type": "execute_result"
    }
   ],
   "source": [
    "type(karisikListe)"
   ]
  },
  {
   "cell_type": "code",
   "execution_count": 23,
   "id": "32bf88c4",
   "metadata": {},
   "outputs": [
    {
     "data": {
      "text/plain": [
       "str"
      ]
     },
     "execution_count": 23,
     "metadata": {},
     "output_type": "execute_result"
    }
   ],
   "source": [
    "type(karisikListe[3])"
   ]
  },
  {
   "cell_type": "code",
   "execution_count": 24,
   "id": "8b55db63",
   "metadata": {},
   "outputs": [],
   "source": [
    "nestedList = [3, 5, 47, \"ahmet\", [4, \"z\"]]"
   ]
  },
  {
   "cell_type": "code",
   "execution_count": 25,
   "id": "bc4b6b90",
   "metadata": {},
   "outputs": [
    {
     "data": {
      "text/plain": [
       "[4, 'z']"
      ]
     },
     "execution_count": 25,
     "metadata": {},
     "output_type": "execute_result"
    }
   ],
   "source": [
    "nestedList[4]"
   ]
  },
  {
   "cell_type": "code",
   "execution_count": 27,
   "id": "017a46ca",
   "metadata": {},
   "outputs": [],
   "source": [
    "sonucum = nestedList[4]"
   ]
  },
  {
   "cell_type": "code",
   "execution_count": 28,
   "id": "ac99c7a3",
   "metadata": {},
   "outputs": [
    {
     "data": {
      "text/plain": [
       "'z'"
      ]
     },
     "execution_count": 28,
     "metadata": {},
     "output_type": "execute_result"
    }
   ],
   "source": [
    "sonucum[1]"
   ]
  },
  {
   "cell_type": "code",
   "execution_count": 29,
   "id": "e7459894",
   "metadata": {},
   "outputs": [],
   "source": [
    "sonucum = nestedList[4][1]"
   ]
  },
  {
   "cell_type": "code",
   "execution_count": 30,
   "id": "f56a85f4",
   "metadata": {},
   "outputs": [
    {
     "data": {
      "text/plain": [
       "'z'"
      ]
     },
     "execution_count": 30,
     "metadata": {},
     "output_type": "execute_result"
    }
   ],
   "source": [
    "sonucum"
   ]
  },
  {
   "cell_type": "code",
   "execution_count": 34,
   "id": "35b6e545",
   "metadata": {},
   "outputs": [],
   "source": [
    "karmasikListe = [[1 ,3, 4, [\"a\", \"c\", [35]]], 35, 46, [\"ahmet\", 4.5]]"
   ]
  },
  {
   "cell_type": "code",
   "execution_count": 40,
   "id": "36d0c475",
   "metadata": {},
   "outputs": [
    {
     "data": {
      "text/plain": [
       "[35]"
      ]
     },
     "execution_count": 40,
     "metadata": {},
     "output_type": "execute_result"
    }
   ],
   "source": [
    "karmasikListe[0][3][2]"
   ]
  },
  {
   "cell_type": "code",
   "execution_count": 41,
   "id": "1442aa7d",
   "metadata": {},
   "outputs": [],
   "source": [
    "degiskenim = karmasikListe[0][3][2]"
   ]
  },
  {
   "cell_type": "code",
   "execution_count": 42,
   "id": "86233cf3",
   "metadata": {},
   "outputs": [
    {
     "data": {
      "text/plain": [
       "[35]"
      ]
     },
     "execution_count": 42,
     "metadata": {},
     "output_type": "execute_result"
    }
   ],
   "source": [
    "degiskenim"
   ]
  },
  {
   "cell_type": "code",
   "execution_count": 43,
   "id": "d25663af",
   "metadata": {},
   "outputs": [
    {
     "data": {
      "text/plain": [
       "[3, 5, 47, 'ahmet', [4, 'z']]"
      ]
     },
     "execution_count": 43,
     "metadata": {},
     "output_type": "execute_result"
    }
   ],
   "source": [
    "nestedList"
   ]
  },
  {
   "cell_type": "code",
   "execution_count": 44,
   "id": "8ceba86f",
   "metadata": {},
   "outputs": [
    {
     "data": {
      "text/plain": [
       "[47, 'ahmet', [4, 'z']]"
      ]
     },
     "execution_count": 44,
     "metadata": {},
     "output_type": "execute_result"
    }
   ],
   "source": [
    "nestedList[2:] # 2. elemandan başlar gerisini getirir"
   ]
  },
  {
   "cell_type": "code",
   "execution_count": 45,
   "id": "da1f90c3",
   "metadata": {},
   "outputs": [
    {
     "data": {
      "text/plain": [
       "[3, 5]"
      ]
     },
     "execution_count": 45,
     "metadata": {},
     "output_type": "execute_result"
    }
   ],
   "source": [
    "nestedList[:2] # 2.elemana kadar getirir 2 de durur"
   ]
  },
  {
   "cell_type": "code",
   "execution_count": null,
   "id": "522e913b",
   "metadata": {},
   "outputs": [],
   "source": []
  }
 ],
 "metadata": {
  "kernelspec": {
   "display_name": "Python 3 (ipykernel)",
   "language": "python",
   "name": "python3"
  },
  "language_info": {
   "codemirror_mode": {
    "name": "ipython",
    "version": 3
   },
   "file_extension": ".py",
   "mimetype": "text/x-python",
   "name": "python",
   "nbconvert_exporter": "python",
   "pygments_lexer": "ipython3",
   "version": "3.10.9"
  }
 },
 "nbformat": 4,
 "nbformat_minor": 5
}
