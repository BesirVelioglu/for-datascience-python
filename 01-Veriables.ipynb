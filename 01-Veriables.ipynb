{
 "cells": [
  {
   "cell_type": "markdown",
   "id": "70175fee",
   "metadata": {},
   "source": [
    " ## Veriables"
   ]
  },
  {
   "cell_type": "code",
   "execution_count": 4,
   "id": "6038912c",
   "metadata": {},
   "outputs": [],
   "source": [
    "x = 5 "
   ]
  },
  {
   "cell_type": "code",
   "execution_count": 5,
   "id": "68923b7e",
   "metadata": {},
   "outputs": [],
   "source": [
    "y = 4"
   ]
  },
  {
   "cell_type": "code",
   "execution_count": 6,
   "id": "a916070c",
   "metadata": {},
   "outputs": [
    {
     "data": {
      "text/plain": [
       "20"
      ]
     },
     "execution_count": 6,
     "metadata": {},
     "output_type": "execute_result"
    }
   ],
   "source": [
    "x * y"
   ]
  },
  {
   "cell_type": "markdown",
   "id": "cb0ef62f",
   "metadata": {},
   "source": [
    "## Integer ve Float"
   ]
  },
  {
   "cell_type": "code",
   "execution_count": 7,
   "id": "602d6c4b",
   "metadata": {},
   "outputs": [],
   "source": [
    "benimDegiskenim = 10\n",
    "benimDigerDegikenim = 20"
   ]
  },
  {
   "cell_type": "code",
   "execution_count": 8,
   "id": "0279b897",
   "metadata": {},
   "outputs": [
    {
     "data": {
      "text/plain": [
       "30"
      ]
     },
     "execution_count": 8,
     "metadata": {},
     "output_type": "execute_result"
    }
   ],
   "source": [
    "benimDegiskenim + benimDigerDegikenim"
   ]
  },
  {
   "cell_type": "code",
   "execution_count": 9,
   "id": "ff38d9b6",
   "metadata": {},
   "outputs": [
    {
     "data": {
      "text/plain": [
       "int"
      ]
     },
     "execution_count": 9,
     "metadata": {},
     "output_type": "execute_result"
    }
   ],
   "source": [
    "type(benimDegiskenim)"
   ]
  },
  {
   "cell_type": "code",
   "execution_count": 12,
   "id": "bf0fa095",
   "metadata": {},
   "outputs": [],
   "source": [
    "sonuc = benimDigerDegikenim / benimDegiskenim"
   ]
  },
  {
   "cell_type": "code",
   "execution_count": 13,
   "id": "f0c9ff6a",
   "metadata": {},
   "outputs": [
    {
     "data": {
      "text/plain": [
       "float"
      ]
     },
     "execution_count": 13,
     "metadata": {},
     "output_type": "execute_result"
    }
   ],
   "source": [
    "type(sonuc)"
   ]
  },
  {
   "cell_type": "code",
   "execution_count": 14,
   "id": "3a2f60f2",
   "metadata": {},
   "outputs": [],
   "source": [
    "a = 3\n",
    "b = 2 "
   ]
  },
  {
   "cell_type": "code",
   "execution_count": 15,
   "id": "8c38e1a2",
   "metadata": {},
   "outputs": [
    {
     "data": {
      "text/plain": [
       "1.5"
      ]
     },
     "execution_count": 15,
     "metadata": {},
     "output_type": "execute_result"
    }
   ],
   "source": [
    "a / b"
   ]
  },
  {
   "cell_type": "code",
   "execution_count": 16,
   "id": "95a1593f",
   "metadata": {},
   "outputs": [],
   "source": [
    "pi = 3.14"
   ]
  },
  {
   "cell_type": "code",
   "execution_count": 17,
   "id": "6fc587a2",
   "metadata": {},
   "outputs": [
    {
     "data": {
      "text/plain": [
       "float"
      ]
     },
     "execution_count": 17,
     "metadata": {},
     "output_type": "execute_result"
    }
   ],
   "source": [
    "type(pi)"
   ]
  },
  {
   "cell_type": "code",
   "execution_count": 18,
   "id": "e563da7a",
   "metadata": {},
   "outputs": [],
   "source": [
    "a = 5"
   ]
  },
  {
   "cell_type": "code",
   "execution_count": 19,
   "id": "0305731e",
   "metadata": {},
   "outputs": [
    {
     "data": {
      "text/plain": [
       "int"
      ]
     },
     "execution_count": 19,
     "metadata": {},
     "output_type": "execute_result"
    }
   ],
   "source": [
    "type(a)"
   ]
  },
  {
   "cell_type": "code",
   "execution_count": 20,
   "id": "174f97e7",
   "metadata": {},
   "outputs": [
    {
     "data": {
      "text/plain": [
       "1.592356687898089"
      ]
     },
     "execution_count": 20,
     "metadata": {},
     "output_type": "execute_result"
    }
   ],
   "source": [
    "a / pi"
   ]
  },
  {
   "cell_type": "code",
   "execution_count": 21,
   "id": "33d7c0bd",
   "metadata": {},
   "outputs": [],
   "source": [
    "a = 5\n",
    "b = 4"
   ]
  },
  {
   "cell_type": "code",
   "execution_count": 23,
   "id": "d9b2ca41",
   "metadata": {},
   "outputs": [],
   "source": [
    "sonuc = a + b "
   ]
  },
  {
   "cell_type": "code",
   "execution_count": 24,
   "id": "410f03ed",
   "metadata": {},
   "outputs": [
    {
     "data": {
      "text/plain": [
       "int"
      ]
     },
     "execution_count": 24,
     "metadata": {},
     "output_type": "execute_result"
    }
   ],
   "source": [
    "type(sonuc)"
   ]
  },
  {
   "cell_type": "markdown",
   "id": "69463926",
   "metadata": {},
   "source": [
    "## Matematiksel İşlemler"
   ]
  },
  {
   "cell_type": "code",
   "execution_count": 25,
   "id": "7f37afaf",
   "metadata": {},
   "outputs": [],
   "source": [
    "x = 5 \n",
    "y = 3"
   ]
  },
  {
   "cell_type": "code",
   "execution_count": 26,
   "id": "484c1710",
   "metadata": {},
   "outputs": [
    {
     "data": {
      "text/plain": [
       "15"
      ]
     },
     "execution_count": 26,
     "metadata": {},
     "output_type": "execute_result"
    }
   ],
   "source": [
    "x * y"
   ]
  },
  {
   "cell_type": "code",
   "execution_count": 27,
   "id": "648ee440",
   "metadata": {},
   "outputs": [
    {
     "data": {
      "text/plain": [
       "625"
      ]
     },
     "execution_count": 27,
     "metadata": {},
     "output_type": "execute_result"
    }
   ],
   "source": [
    "x * x * x * x"
   ]
  },
  {
   "cell_type": "code",
   "execution_count": 28,
   "id": "de246c1c",
   "metadata": {},
   "outputs": [
    {
     "data": {
      "text/plain": [
       "625"
      ]
     },
     "execution_count": 28,
     "metadata": {},
     "output_type": "execute_result"
    }
   ],
   "source": [
    "x ** 4 ## (**) üzeri manasına gelir"
   ]
  },
  {
   "cell_type": "code",
   "execution_count": 29,
   "id": "6b31bb5f",
   "metadata": {},
   "outputs": [
    {
     "data": {
      "text/plain": [
       "0"
      ]
     },
     "execution_count": 29,
     "metadata": {},
     "output_type": "execute_result"
    }
   ],
   "source": [
    "#Remainder - Kalanını Bulmak\n",
    "10 % 2"
   ]
  },
  {
   "cell_type": "code",
   "execution_count": 30,
   "id": "480cd595",
   "metadata": {},
   "outputs": [
    {
     "data": {
      "text/plain": [
       "1"
      ]
     },
     "execution_count": 30,
     "metadata": {},
     "output_type": "execute_result"
    }
   ],
   "source": [
    "11 % 2"
   ]
  },
  {
   "cell_type": "code",
   "execution_count": 31,
   "id": "18bdb192",
   "metadata": {},
   "outputs": [
    {
     "data": {
      "text/plain": [
       "2"
      ]
     },
     "execution_count": 31,
     "metadata": {},
     "output_type": "execute_result"
    }
   ],
   "source": [
    "11 % 3 "
   ]
  },
  {
   "cell_type": "code",
   "execution_count": 32,
   "id": "a2720c4e",
   "metadata": {},
   "outputs": [],
   "source": [
    "kullanicininYasi = 10"
   ]
  },
  {
   "cell_type": "code",
   "execution_count": 33,
   "id": "e761e2af",
   "metadata": {},
   "outputs": [],
   "source": [
    "## camelCase - snake_case"
   ]
  },
  {
   "cell_type": "code",
   "execution_count": 34,
   "id": "2f3b912d",
   "metadata": {},
   "outputs": [
    {
     "data": {
      "text/plain": [
       "16.666666666666668"
      ]
     },
     "execution_count": 34,
     "metadata": {},
     "output_type": "execute_result"
    }
   ],
   "source": [
    "kullanicininYasi * 5 / 3"
   ]
  },
  {
   "cell_type": "code",
   "execution_count": 35,
   "id": "b87f466b",
   "metadata": {},
   "outputs": [
    {
     "data": {
      "text/plain": [
       "int"
      ]
     },
     "execution_count": 35,
     "metadata": {},
     "output_type": "execute_result"
    }
   ],
   "source": [
    "type(kullanicininYasi)"
   ]
  },
  {
   "cell_type": "code",
   "execution_count": 40,
   "id": "c44daa3a",
   "metadata": {},
   "outputs": [
    {
     "name": "stdout",
     "output_type": "stream",
     "text": [
      "Yaşınızı giriniz:  40\n"
     ]
    }
   ],
   "source": [
    "kullanicininYasi = input(\"Yaşınızı giriniz:  \") #input kullanıcıdan veri giriş almak için kullanılır"
   ]
  },
  {
   "cell_type": "code",
   "execution_count": 41,
   "id": "16d3d479",
   "metadata": {},
   "outputs": [
    {
     "data": {
      "text/plain": [
       "'40'"
      ]
     },
     "execution_count": 41,
     "metadata": {},
     "output_type": "execute_result"
    }
   ],
   "source": [
    "kullanicininYasi"
   ]
  },
  {
   "cell_type": "code",
   "execution_count": 42,
   "id": "0010cde4",
   "metadata": {},
   "outputs": [
    {
     "data": {
      "text/plain": [
       "str"
      ]
     },
     "execution_count": 42,
     "metadata": {},
     "output_type": "execute_result"
    }
   ],
   "source": [
    "type(kullanicininYasi)"
   ]
  },
  {
   "cell_type": "code",
   "execution_count": 43,
   "id": "eb37bf2c",
   "metadata": {},
   "outputs": [
    {
     "data": {
      "text/plain": [
       "'4040404040'"
      ]
     },
     "execution_count": 43,
     "metadata": {},
     "output_type": "execute_result"
    }
   ],
   "source": [
    "kullanicininYasi * 5"
   ]
  },
  {
   "cell_type": "markdown",
   "id": "78beb13e",
   "metadata": {},
   "source": [
    "## String"
   ]
  },
  {
   "cell_type": "code",
   "execution_count": 44,
   "id": "35485121",
   "metadata": {},
   "outputs": [
    {
     "data": {
      "text/plain": [
       "'Hello World'"
      ]
     },
     "execution_count": 44,
     "metadata": {},
     "output_type": "execute_result"
    }
   ],
   "source": [
    "\"Hello World\""
   ]
  },
  {
   "cell_type": "code",
   "execution_count": 45,
   "id": "b9a9b695",
   "metadata": {},
   "outputs": [],
   "source": [
    "x = \"Hello World\""
   ]
  },
  {
   "cell_type": "code",
   "execution_count": 46,
   "id": "5d6d4eb4",
   "metadata": {},
   "outputs": [
    {
     "data": {
      "text/plain": [
       "str"
      ]
     },
     "execution_count": 46,
     "metadata": {},
     "output_type": "execute_result"
    }
   ],
   "source": [
    "type(x)"
   ]
  },
  {
   "cell_type": "code",
   "execution_count": 47,
   "id": "209178d9",
   "metadata": {},
   "outputs": [],
   "source": [
    "y = 'yeni stirng'"
   ]
  },
  {
   "cell_type": "code",
   "execution_count": 48,
   "id": "a03fffd3",
   "metadata": {},
   "outputs": [
    {
     "data": {
      "text/plain": [
       "str"
      ]
     },
     "execution_count": 48,
     "metadata": {},
     "output_type": "execute_result"
    }
   ],
   "source": [
    "type(y)"
   ]
  },
  {
   "cell_type": "code",
   "execution_count": 49,
   "id": "5bd2b013",
   "metadata": {},
   "outputs": [],
   "source": [
    "a = 5 "
   ]
  },
  {
   "cell_type": "code",
   "execution_count": 51,
   "id": "bec566ca",
   "metadata": {},
   "outputs": [
    {
     "data": {
      "text/plain": [
       "'Yeni stirng'"
      ]
     },
     "execution_count": 51,
     "metadata": {},
     "output_type": "execute_result"
    }
   ],
   "source": [
    "y.capitalize()"
   ]
  },
  {
   "cell_type": "code",
   "execution_count": 52,
   "id": "e97da20b",
   "metadata": {},
   "outputs": [
    {
     "data": {
      "text/plain": [
       "['yeni', 'stirng']"
      ]
     },
     "execution_count": 52,
     "metadata": {},
     "output_type": "execute_result"
    }
   ],
   "source": [
    "y.split()"
   ]
  },
  {
   "cell_type": "code",
   "execution_count": 53,
   "id": "5f5f0795",
   "metadata": {},
   "outputs": [],
   "source": [
    "benimString = \"Beşir Velioğlu\""
   ]
  },
  {
   "cell_type": "code",
   "execution_count": 54,
   "id": "560caa2c",
   "metadata": {},
   "outputs": [
    {
     "data": {
      "text/plain": [
       "'Beşir VelioğluBeşir VelioğluBeşir VelioğluBeşir VelioğluBeşir Velioğlu'"
      ]
     },
     "execution_count": 54,
     "metadata": {},
     "output_type": "execute_result"
    }
   ],
   "source": [
    "benimString * 5"
   ]
  },
  {
   "cell_type": "code",
   "execution_count": 55,
   "id": "14b32022",
   "metadata": {},
   "outputs": [
    {
     "name": "stdout",
     "output_type": "stream",
     "text": [
      "yaşınızı giriniz : 47\n"
     ]
    }
   ],
   "source": [
    "benimInput = input(\"yaşınızı giriniz : \")"
   ]
  },
  {
   "cell_type": "code",
   "execution_count": 56,
   "id": "2bc45f86",
   "metadata": {},
   "outputs": [
    {
     "data": {
      "text/plain": [
       "str"
      ]
     },
     "execution_count": 56,
     "metadata": {},
     "output_type": "execute_result"
    }
   ],
   "source": [
    "type(benimInput)"
   ]
  },
  {
   "cell_type": "code",
   "execution_count": 57,
   "id": "71850784",
   "metadata": {},
   "outputs": [],
   "source": [
    "benimIntInput = int(benimInput) #String değeri integer değere çevirir"
   ]
  },
  {
   "cell_type": "code",
   "execution_count": 58,
   "id": "812791e0",
   "metadata": {},
   "outputs": [
    {
     "data": {
      "text/plain": [
       "78.33333333333333"
      ]
     },
     "execution_count": 58,
     "metadata": {},
     "output_type": "execute_result"
    }
   ],
   "source": [
    "benimIntInput / 3 * 5"
   ]
  },
  {
   "cell_type": "code",
   "execution_count": 59,
   "id": "0f905489",
   "metadata": {},
   "outputs": [],
   "source": [
    "k = \"Velioğlu\""
   ]
  },
  {
   "cell_type": "code",
   "execution_count": 60,
   "id": "811e5d13",
   "metadata": {},
   "outputs": [
    {
     "data": {
      "text/plain": [
       "8"
      ]
     },
     "execution_count": 60,
     "metadata": {},
     "output_type": "execute_result"
    }
   ],
   "source": [
    "len(k) # uzunluk manasına gelir içine verdiğimiz karakterin uzunluğunu söyler."
   ]
  },
  {
   "cell_type": "code",
   "execution_count": 61,
   "id": "5f537c52",
   "metadata": {},
   "outputs": [
    {
     "name": "stdout",
     "output_type": "stream",
     "text": [
      "hello World\n"
     ]
    }
   ],
   "source": [
    "print(\"hello World\")"
   ]
  },
  {
   "cell_type": "code",
   "execution_count": 62,
   "id": "52bd7eaf",
   "metadata": {},
   "outputs": [
    {
     "name": "stdout",
     "output_type": "stream",
     "text": [
      "hello \n",
      " python\n"
     ]
    }
   ],
   "source": [
    "print(\"hello \\n python\") # \\n (newline) sonraki kelimeyi aşağı satıra kaydırır."
   ]
  },
  {
   "cell_type": "code",
   "execution_count": 65,
   "id": "ac7452c1",
   "metadata": {},
   "outputs": [],
   "source": [
    "isimString = \"Beşir Velioğlu\""
   ]
  },
  {
   "cell_type": "code",
   "execution_count": 66,
   "id": "21d5b40e",
   "metadata": {},
   "outputs": [
    {
     "data": {
      "text/plain": [
       "'Beşir Velioğlu'"
      ]
     },
     "execution_count": 66,
     "metadata": {},
     "output_type": "execute_result"
    }
   ],
   "source": [
    "isimString"
   ]
  },
  {
   "cell_type": "markdown",
   "id": "bcbb5c27",
   "metadata": {},
   "source": [
    "## Index"
   ]
  },
  {
   "cell_type": "code",
   "execution_count": 67,
   "id": "137dd0ea",
   "metadata": {},
   "outputs": [
    {
     "data": {
      "text/plain": [
       "'B'"
      ]
     },
     "execution_count": 67,
     "metadata": {},
     "output_type": "execute_result"
    }
   ],
   "source": [
    "isimString[0]"
   ]
  },
  {
   "cell_type": "code",
   "execution_count": 68,
   "id": "5e628923",
   "metadata": {},
   "outputs": [
    {
     "data": {
      "text/plain": [
       "'V'"
      ]
     },
     "execution_count": 68,
     "metadata": {},
     "output_type": "execute_result"
    }
   ],
   "source": [
    "isimString[6]"
   ]
  },
  {
   "cell_type": "code",
   "execution_count": 69,
   "id": "70b13d86",
   "metadata": {},
   "outputs": [
    {
     "data": {
      "text/plain": [
       "' '"
      ]
     },
     "execution_count": 69,
     "metadata": {},
     "output_type": "execute_result"
    }
   ],
   "source": [
    "isimString[5]"
   ]
  },
  {
   "cell_type": "code",
   "execution_count": 70,
   "id": "b0065138",
   "metadata": {},
   "outputs": [
    {
     "data": {
      "text/plain": [
       "'u'"
      ]
     },
     "execution_count": 70,
     "metadata": {},
     "output_type": "execute_result"
    }
   ],
   "source": [
    "isimString[-1] # -1 son karakteri getir manasına gelir."
   ]
  },
  {
   "cell_type": "code",
   "execution_count": 71,
   "id": "a864d320",
   "metadata": {},
   "outputs": [
    {
     "data": {
      "text/plain": [
       "'l'"
      ]
     },
     "execution_count": 71,
     "metadata": {},
     "output_type": "execute_result"
    }
   ],
   "source": [
    "isimString[-2]"
   ]
  },
  {
   "cell_type": "code",
   "execution_count": 72,
   "id": "0bec9277",
   "metadata": {},
   "outputs": [
    {
     "data": {
      "text/plain": [
       "'Bu'"
      ]
     },
     "execution_count": 72,
     "metadata": {},
     "output_type": "execute_result"
    }
   ],
   "source": [
    "isimString[0] + isimString[-1]"
   ]
  },
  {
   "cell_type": "code",
   "execution_count": 73,
   "id": "e226b901",
   "metadata": {},
   "outputs": [],
   "source": [
    "yeniString = \"0123456789\""
   ]
  },
  {
   "cell_type": "code",
   "execution_count": 75,
   "id": "0238d8e6",
   "metadata": {},
   "outputs": [
    {
     "data": {
      "text/plain": [
       "'23456789'"
      ]
     },
     "execution_count": 75,
     "metadata": {},
     "output_type": "execute_result"
    }
   ],
   "source": [
    "yeniString[2: ] # ilk iki eleman hariç diğer elemanları al anlamına gelir."
   ]
  },
  {
   "cell_type": "code",
   "execution_count": 76,
   "id": "783e9901",
   "metadata": {},
   "outputs": [],
   "source": [
    "harfString = \"abcdefgh\""
   ]
  },
  {
   "cell_type": "code",
   "execution_count": 77,
   "id": "f9611f9d",
   "metadata": {},
   "outputs": [
    {
     "data": {
      "text/plain": [
       "'cdefgh'"
      ]
     },
     "execution_count": 77,
     "metadata": {},
     "output_type": "execute_result"
    }
   ],
   "source": [
    "harfString[2:]"
   ]
  },
  {
   "cell_type": "code",
   "execution_count": 78,
   "id": "8adbc068",
   "metadata": {},
   "outputs": [
    {
     "data": {
      "text/plain": [
       "'abc'"
      ]
     },
     "execution_count": 78,
     "metadata": {},
     "output_type": "execute_result"
    }
   ],
   "source": [
    "harfString[:3] # sayı : sağında olduğunda sadece ilk üç elemanı al anlamına gelmektedir."
   ]
  },
  {
   "cell_type": "markdown",
   "id": "00e69d4f",
   "metadata": {},
   "source": [
    "## Slicing"
   ]
  },
  {
   "cell_type": "code",
   "execution_count": 81,
   "id": "f5a49be5",
   "metadata": {},
   "outputs": [],
   "source": [
    "gelenVeri = \"AhmetinYasi65\""
   ]
  },
  {
   "cell_type": "code",
   "execution_count": 80,
   "id": "b7108884",
   "metadata": {},
   "outputs": [
    {
     "data": {
      "text/plain": [
       "'65'"
      ]
     },
     "execution_count": 80,
     "metadata": {},
     "output_type": "execute_result"
    }
   ],
   "source": [
    "gelenVeri[-2:]"
   ]
  },
  {
   "cell_type": "code",
   "execution_count": 83,
   "id": "16e59558",
   "metadata": {},
   "outputs": [
    {
     "data": {
      "text/plain": [
       "'me'"
      ]
     },
     "execution_count": 83,
     "metadata": {},
     "output_type": "execute_result"
    }
   ],
   "source": [
    "gelenVeri[2:4] # 2 başlama index i , 4 durdurma index i dir. "
   ]
  },
  {
   "cell_type": "code",
   "execution_count": 84,
   "id": "49e98da1",
   "metadata": {},
   "outputs": [
    {
     "data": {
      "text/plain": [
       "'Ahme'"
      ]
     },
     "execution_count": 84,
     "metadata": {},
     "output_type": "execute_result"
    }
   ],
   "source": [
    "gelenVeri[:4]"
   ]
  },
  {
   "cell_type": "code",
   "execution_count": 85,
   "id": "1baf13e0",
   "metadata": {},
   "outputs": [],
   "source": [
    "#Step Size"
   ]
  },
  {
   "cell_type": "code",
   "execution_count": 89,
   "id": "482ac6b4",
   "metadata": {},
   "outputs": [
    {
     "data": {
      "text/plain": [
       "'Aens5'"
      ]
     },
     "execution_count": 89,
     "metadata": {},
     "output_type": "execute_result"
    }
   ],
   "source": [
    "gelenVeri[::3] # Atlama index i anlamına gelir. 0 dan başlar 3 er atlayarak yazdırır."
   ]
  },
  {
   "cell_type": "code",
   "execution_count": 90,
   "id": "e871f0e7",
   "metadata": {},
   "outputs": [
    {
     "data": {
      "text/plain": [
       "'htY'"
      ]
     },
     "execution_count": 90,
     "metadata": {},
     "output_type": "execute_result"
    }
   ],
   "source": [
    "gelenVeri[1:10:3] # 1 den başla 10 da dur 3 er getir "
   ]
  },
  {
   "cell_type": "code",
   "execution_count": 92,
   "id": "8e30e1dc",
   "metadata": {},
   "outputs": [
    {
     "data": {
      "text/plain": [
       "'56isaYnitemhA'"
      ]
     },
     "execution_count": 92,
     "metadata": {},
     "output_type": "execute_result"
    }
   ],
   "source": [
    "gelenVeri[::-1] # tersten yazdırır."
   ]
  },
  {
   "cell_type": "code",
   "execution_count": 96,
   "id": "35c64410",
   "metadata": {},
   "outputs": [],
   "source": [
    "benimIsmim = \"beşir\""
   ]
  },
  {
   "cell_type": "code",
   "execution_count": 97,
   "id": "5fd76b68",
   "metadata": {},
   "outputs": [
    {
     "data": {
      "text/plain": [
       "'Beşir'"
      ]
     },
     "execution_count": 97,
     "metadata": {},
     "output_type": "execute_result"
    }
   ],
   "source": [
    "benimIsmim.capitalize()"
   ]
  },
  {
   "cell_type": "code",
   "execution_count": 98,
   "id": "414e06b1",
   "metadata": {},
   "outputs": [
    {
     "data": {
      "text/plain": [
       "'beşir'"
      ]
     },
     "execution_count": 98,
     "metadata": {},
     "output_type": "execute_result"
    }
   ],
   "source": [
    "benimIsmim"
   ]
  },
  {
   "cell_type": "code",
   "execution_count": 99,
   "id": "d2c6c745",
   "metadata": {},
   "outputs": [],
   "source": [
    "benimYeniIsmim = benimIsmim.capitalize()"
   ]
  },
  {
   "cell_type": "code",
   "execution_count": 100,
   "id": "3903e5e4",
   "metadata": {},
   "outputs": [
    {
     "data": {
      "text/plain": [
       "'Beşir'"
      ]
     },
     "execution_count": 100,
     "metadata": {},
     "output_type": "execute_result"
    }
   ],
   "source": [
    "benimYeniIsmim"
   ]
  },
  {
   "cell_type": "code",
   "execution_count": 101,
   "id": "ee3db9d6",
   "metadata": {},
   "outputs": [
    {
     "data": {
      "text/plain": [
       "'beşir'"
      ]
     },
     "execution_count": 101,
     "metadata": {},
     "output_type": "execute_result"
    }
   ],
   "source": [
    "benimIsmim"
   ]
  },
  {
   "cell_type": "code",
   "execution_count": 102,
   "id": "49981eb6",
   "metadata": {},
   "outputs": [],
   "source": [
    "benimTamIsmim = \"Beşir Velioğlu\""
   ]
  },
  {
   "cell_type": "code",
   "execution_count": 105,
   "id": "6f7cf7d8",
   "metadata": {},
   "outputs": [
    {
     "data": {
      "text/plain": [
       "['Beşir', 'Velioğlu']"
      ]
     },
     "execution_count": 105,
     "metadata": {},
     "output_type": "execute_result"
    }
   ],
   "source": [
    "benimTamIsmim.split()"
   ]
  },
  {
   "cell_type": "code",
   "execution_count": 106,
   "id": "29b89261",
   "metadata": {},
   "outputs": [],
   "source": [
    "listeler = benimTamIsmim.split() #split string ifadeyi listeleme metoduyla böler"
   ]
  },
  {
   "cell_type": "code",
   "execution_count": 107,
   "id": "0a47b778",
   "metadata": {},
   "outputs": [
    {
     "data": {
      "text/plain": [
       "'Velioğlu'"
      ]
     },
     "execution_count": 107,
     "metadata": {},
     "output_type": "execute_result"
    }
   ],
   "source": [
    "listeler[1]"
   ]
  },
  {
   "cell_type": "code",
   "execution_count": 108,
   "id": "b8b3175e",
   "metadata": {},
   "outputs": [
    {
     "data": {
      "text/plain": [
       "'BEŞIR VELIOĞLU'"
      ]
     },
     "execution_count": 108,
     "metadata": {},
     "output_type": "execute_result"
    }
   ],
   "source": [
    "benimTamIsmim.upper() #upper bütün karakterleri büyük karaktere çevirir"
   ]
  },
  {
   "cell_type": "code",
   "execution_count": 109,
   "id": "46bd2349",
   "metadata": {},
   "outputs": [
    {
     "data": {
      "text/plain": [
       "'beşirdır'"
      ]
     },
     "execution_count": 109,
     "metadata": {},
     "output_type": "execute_result"
    }
   ],
   "source": [
    "benimIsmim + \"dır\""
   ]
  },
  {
   "cell_type": "code",
   "execution_count": null,
   "id": "470fee67",
   "metadata": {},
   "outputs": [],
   "source": []
  }
 ],
 "metadata": {
  "kernelspec": {
   "display_name": "Python 3 (ipykernel)",
   "language": "python",
   "name": "python3"
  },
  "language_info": {
   "codemirror_mode": {
    "name": "ipython",
    "version": 3
   },
   "file_extension": ".py",
   "mimetype": "text/x-python",
   "name": "python",
   "nbconvert_exporter": "python",
   "pygments_lexer": "ipython3",
   "version": "3.10.9"
  }
 },
 "nbformat": 4,
 "nbformat_minor": 5
}
