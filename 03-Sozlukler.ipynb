{
 "cells": [
  {
   "cell_type": "code",
   "execution_count": 1,
   "id": "aaa9a5ac",
   "metadata": {},
   "outputs": [],
   "source": [
    "benimListem = [1, 2, 3]"
   ]
  },
  {
   "cell_type": "code",
   "execution_count": 2,
   "id": "842f8be4",
   "metadata": {},
   "outputs": [
    {
     "data": {
      "text/plain": [
       "1"
      ]
     },
     "execution_count": 2,
     "metadata": {},
     "output_type": "execute_result"
    }
   ],
   "source": [
    "benimListem[0]"
   ]
  },
  {
   "cell_type": "markdown",
   "id": "1d37ff9b",
   "metadata": {},
   "source": [
    "## Key-value pairing (anahtar kelime - değer eşleşmesi)"
   ]
  },
  {
   "cell_type": "code",
   "execution_count": 3,
   "id": "acff6de9",
   "metadata": {},
   "outputs": [],
   "source": [
    "benimYemeklerim = [\"elma\", \"kavun\", \"karpuz\"]"
   ]
  },
  {
   "cell_type": "code",
   "execution_count": 4,
   "id": "9e652ef8",
   "metadata": {},
   "outputs": [],
   "source": [
    "benimKalorilerim = [100, 200, 300]"
   ]
  },
  {
   "cell_type": "code",
   "execution_count": 5,
   "id": "9cb630b5",
   "metadata": {},
   "outputs": [
    {
     "data": {
      "text/plain": [
       "'elma'"
      ]
     },
     "execution_count": 5,
     "metadata": {},
     "output_type": "execute_result"
    }
   ],
   "source": [
    "benimYemeklerim[0]"
   ]
  },
  {
   "cell_type": "code",
   "execution_count": 6,
   "id": "a76e06bc",
   "metadata": {},
   "outputs": [
    {
     "data": {
      "text/plain": [
       "100"
      ]
     },
     "execution_count": 6,
     "metadata": {},
     "output_type": "execute_result"
    }
   ],
   "source": [
    "benimKalorilerim[0]"
   ]
  },
  {
   "cell_type": "code",
   "execution_count": 7,
   "id": "8a2f1536",
   "metadata": {},
   "outputs": [],
   "source": [
    "#dictionary"
   ]
  },
  {
   "cell_type": "code",
   "execution_count": 8,
   "id": "ffc461e7",
   "metadata": {},
   "outputs": [],
   "source": [
    "benimSozluk = {\"anahtar kelime\":\"değer\"}"
   ]
  },
  {
   "cell_type": "code",
   "execution_count": 11,
   "id": "f4d6c3aa",
   "metadata": {},
   "outputs": [
    {
     "data": {
      "text/plain": [
       "'değer'"
      ]
     },
     "execution_count": 11,
     "metadata": {},
     "output_type": "execute_result"
    }
   ],
   "source": [
    "benimSozluk[\"anahtar kelime\"]"
   ]
  },
  {
   "cell_type": "code",
   "execution_count": 12,
   "id": "808f6cc9",
   "metadata": {},
   "outputs": [
    {
     "data": {
      "text/plain": [
       "dict"
      ]
     },
     "execution_count": 12,
     "metadata": {},
     "output_type": "execute_result"
    }
   ],
   "source": [
    "type(benimSozluk)"
   ]
  },
  {
   "cell_type": "code",
   "execution_count": 13,
   "id": "dcf8c6cf",
   "metadata": {},
   "outputs": [],
   "source": [
    "benimYemekKaloriSozlugum = {\"elma\": 100, \"kavun\": 200, \"karpuz\":300}"
   ]
  },
  {
   "cell_type": "code",
   "execution_count": 14,
   "id": "7ce3d091",
   "metadata": {},
   "outputs": [
    {
     "data": {
      "text/plain": [
       "{'elma': 100, 'kavun': 200, 'karpuz': 300}"
      ]
     },
     "execution_count": 14,
     "metadata": {},
     "output_type": "execute_result"
    }
   ],
   "source": [
    "benimYemekKaloriSozlugum"
   ]
  },
  {
   "cell_type": "code",
   "execution_count": 15,
   "id": "24f6da94",
   "metadata": {},
   "outputs": [
    {
     "data": {
      "text/plain": [
       "100"
      ]
     },
     "execution_count": 15,
     "metadata": {},
     "output_type": "execute_result"
    }
   ],
   "source": [
    "benimYemekKaloriSozlugum[\"elma\"]"
   ]
  },
  {
   "cell_type": "code",
   "execution_count": 17,
   "id": "239b1218",
   "metadata": {},
   "outputs": [
    {
     "data": {
      "text/plain": [
       "300"
      ]
     },
     "execution_count": 17,
     "metadata": {},
     "output_type": "execute_result"
    }
   ],
   "source": [
    "benimYemekKaloriSozlugum[\"karpuz\"]"
   ]
  },
  {
   "cell_type": "code",
   "execution_count": 19,
   "id": "c12ca8e4",
   "metadata": {},
   "outputs": [],
   "source": [
    "benimYemekKaloriSozlugum[\"elma\"] = 500"
   ]
  },
  {
   "cell_type": "code",
   "execution_count": 20,
   "id": "d3cecf5a",
   "metadata": {},
   "outputs": [
    {
     "data": {
      "text/plain": [
       "{'elma': 500, 'kavun': 200, 'karpuz': 300}"
      ]
     },
     "execution_count": 20,
     "metadata": {},
     "output_type": "execute_result"
    }
   ],
   "source": [
    "benimYemekKaloriSozlugum"
   ]
  },
  {
   "cell_type": "code",
   "execution_count": 21,
   "id": "a0cb7e87",
   "metadata": {},
   "outputs": [],
   "source": [
    "yeniDictionary = {\"anahtar1\":100, \"anahtar2\": [10,20,30,40,4.5,\"atlas\"], \"anahtar3\": {\"anahtar9\":4}}"
   ]
  },
  {
   "cell_type": "code",
   "execution_count": 22,
   "id": "9d847b84",
   "metadata": {},
   "outputs": [
    {
     "data": {
      "text/plain": [
       "dict_keys(['anahtar1', 'anahtar2', 'anahtar3'])"
      ]
     },
     "execution_count": 22,
     "metadata": {},
     "output_type": "execute_result"
    }
   ],
   "source": [
    "yeniDictionary.keys() # keys sözlüğün anahtar kelimelerini verir"
   ]
  },
  {
   "cell_type": "code",
   "execution_count": 23,
   "id": "96a8fdff",
   "metadata": {},
   "outputs": [
    {
     "data": {
      "text/plain": [
       "dict_values([100, [10, 20, 30, 40, 4.5, 'atlas'], {'anahtar9': 4}])"
      ]
     },
     "execution_count": 23,
     "metadata": {},
     "output_type": "execute_result"
    }
   ],
   "source": [
    "yeniDictionary.values() # values sözlüğün değerlerini verir"
   ]
  },
  {
   "cell_type": "code",
   "execution_count": 25,
   "id": "11f380d7",
   "metadata": {},
   "outputs": [
    {
     "data": {
      "text/plain": [
       "'atlas'"
      ]
     },
     "execution_count": 25,
     "metadata": {},
     "output_type": "execute_result"
    }
   ],
   "source": [
    "yeniDictionary['anahtar2'][5]"
   ]
  },
  {
   "cell_type": "code",
   "execution_count": 27,
   "id": "5514c6a7",
   "metadata": {},
   "outputs": [
    {
     "data": {
      "text/plain": [
       "4"
      ]
     },
     "execution_count": 27,
     "metadata": {},
     "output_type": "execute_result"
    }
   ],
   "source": [
    "yeniDictionary[\"anahtar3\"][\"anahtar9\"]"
   ]
  },
  {
   "cell_type": "code",
   "execution_count": null,
   "id": "cce4dac3",
   "metadata": {},
   "outputs": [],
   "source": []
  }
 ],
 "metadata": {
  "kernelspec": {
   "display_name": "Python 3 (ipykernel)",
   "language": "python",
   "name": "python3"
  },
  "language_info": {
   "codemirror_mode": {
    "name": "ipython",
    "version": 3
   },
   "file_extension": ".py",
   "mimetype": "text/x-python",
   "name": "python",
   "nbconvert_exporter": "python",
   "pygments_lexer": "ipython3",
   "version": "3.10.9"
  }
 },
 "nbformat": 4,
 "nbformat_minor": 5
}
